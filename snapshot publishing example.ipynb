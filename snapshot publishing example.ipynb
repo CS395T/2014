{
 "metadata": {
  "name": ""
 },
 "nbformat": 3,
 "nbformat_minor": 0,
 "worksheets": [
  {
   "cells": [
    {
     "cell_type": "markdown",
     "metadata": {},
     "source": [
      "One downside to using a notebook hosted on the class server to share results is that the notebook is still modifiable. To get around this, we have built a simple system for publishing snapshots of the state of a notebook to a publicly accessible URL."
     ]
    },
    {
     "cell_type": "markdown",
     "metadata": {},
     "source": [
      "To use it, make sure that you have saved the notebook you want to snapshot, then call the function `publish_snapshot` with the filename of the notebook in quotes as an argument. (If you start typing the file name in quotes, tab-completion makes it easy to find the one you want.) This will push the current version of the notebook to the class github repository and return the URL at which you can find it. "
     ]
    },
    {
     "cell_type": "code",
     "collapsed": false,
     "input": [
      "publish_snapshot('snapshot publishing example.ipynb')"
     ],
     "language": "python",
     "metadata": {},
     "outputs": [
      {
       "metadata": {},
       "output_type": "pyout",
       "prompt_number": 1,
       "text": [
        "'http://nbviewer.ipython.org/github/CS395T/2014/blob/master/snapshot%20publishing%20example.ipynb'"
       ]
      }
     ],
     "prompt_number": 1
    }
   ],
   "metadata": {}
  }
 ]
}