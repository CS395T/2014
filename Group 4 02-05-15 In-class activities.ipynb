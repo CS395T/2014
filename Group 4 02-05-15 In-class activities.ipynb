{
 "metadata": {
  "name": ""
 },
 "nbformat": 3,
 "nbformat_minor": 0,
 "worksheets": [
  {
   "cells": [
    {
     "cell_type": "raw",
     "metadata": {},
     "source": [
      "The heading for each part of the activity briefly describes the part. For full details, see:\n",
      "http://granite.ices.utexas.edu/coursewiki/images/2/2e/ClassActivity20130204.pdf"
     ]
    },
    {
     "cell_type": "code",
     "collapsed": false,
     "input": [
      "import numpy as np\n",
      "import matplotlib.pyplot as plt\n",
      "import scipy.stats"
     ],
     "language": "python",
     "metadata": {},
     "outputs": [],
     "prompt_number": 1
    },
    {
     "cell_type": "heading",
     "level": 3,
     "metadata": {},
     "source": [
      "Part 1: Read the events from the file."
     ]
    },
    {
     "cell_type": "code",
     "collapsed": false,
     "input": [
      "# Load the data.\n",
      "events = [float(line.strip()) for line in open('data/Events20130204.txt').readlines()]\n",
      "print '{0} independent measurements. First 10:'.format(len(events))\n",
      "print events[:10]\n",
      "\n",
      "# Take a peek.\n",
      "plt.hist(events, bins=100)\n",
      "sample_mean = np.mean(events)\n",
      "sample_stdev = np.std(events)\n",
      "print 'Sample mean: {}'.format(sample_mean)\n",
      "print 'Sample stdev: {}'.format(sample_stdev)"
     ],
     "language": "python",
     "metadata": {},
     "outputs": [
      {
       "output_type": "stream",
       "stream": "stdout",
       "text": [
        "1000 independent measurements. First 10:\n",
        "[6.1355644, 2.9098908, 3.9025586, 2.8688229, 2.6472936, 5.9071974, 0.21227957, 1.293517, 2.9736624, -0.22960726]\n",
        "Sample mean: 2.23679165769"
       ]
      },
      {
       "output_type": "stream",
       "stream": "stdout",
       "text": [
        "\n",
        "Sample stdev: 2.23531606892\n"
       ]
      },
      {
       "metadata": {},
       "output_type": "display_data",
       "png": "[encoded data removed]",
       "text": [
        "<matplotlib.figure.Figure at 0x9935d0c>"
       ]
      }
     ],
     "prompt_number": 2
    },
    {
     "cell_type": "heading",
     "level": 3,
     "metadata": {},
     "source": [
      "Part 2: Compute the probability of the data assuming it is normally distributed."
     ]
    },
    {
     "cell_type": "code",
     "collapsed": false,
     "input": [
      "# Get a PDF for a normal distribution with the sample mean/stdev.\n",
      "normal_pdf = scipy.stats.norm(loc=sample_mean, scale=sample_stdev).pdf\n",
      "print 'Probability of the first data point: p({0}) = {1}'.format(events[0], normal_pdf(events[0]))"
     ],
     "language": "python",
     "metadata": {},
     "outputs": [
      {
       "output_type": "stream",
       "stream": "stdout",
       "text": [
        "Probability of the first data point: p(6.1355644) = 0.0389924654454\n"
       ]
      }
     ],
     "prompt_number": 3
    },
    {
     "cell_type": "code",
     "collapsed": false,
     "input": [
      "def log_prob_data(data, pdf):\n",
      "    \"\"\"Computes the (log) probability of the data with the given PDF.\"\"\"\n",
      "    return np.sum(np.log(pdf(data)))\n",
      "\n",
      "normal_prob = log_prob_data(events, normal_pdf)\n",
      "print 'Log probability of the data (normal): {0}'.format(normal_prob)"
     ],
     "language": "python",
     "metadata": {},
     "outputs": [
      {
       "output_type": "stream",
       "stream": "stdout",
       "text": [
        "Log probability of the data (normal): -2223.32116913\n"
       ]
      }
     ],
     "prompt_number": 4
    },
    {
     "cell_type": "heading",
     "level": 3,
     "metadata": {},
     "source": [
      "Part 3: Now suppose the events are from a Student t distribution..."
     ]
    },
    {
     "cell_type": "code",
     "collapsed": false,
     "input": [
      "t_mu = 2.0\n",
      "t_sigma = 1.2\n",
      "t_nu = 5.0\n",
      "student_t_pdf = scipy.stats.t(t_nu, loc=t_mu, scale=t_sigma).pdf\n",
      "\n",
      "student_t_prob = log_prob_data(events, student_t_pdf)\n",
      "print 'Log probability of the data (Student t): {0}'.format(student_t_prob)\n",
      "print '{0} times more probable than with the normal distribution'.format(np.exp(student_t_prob - normal_prob))"
     ],
     "language": "python",
     "metadata": {},
     "outputs": [
      {
       "output_type": "stream",
       "stream": "stdout",
       "text": [
        "Log probability of the data (Student t): -2208.17899194\n",
        "3768460.75583 times more probable than with the normal distribution\n"
       ]
      }
     ],
     "prompt_number": 5
    },
    {
     "cell_type": "heading",
     "level": 3,
     "metadata": {},
     "source": [
      "Part 4: Find the MAP estimates for the Student t parameters."
     ]
    },
    {
     "cell_type": "code",
     "collapsed": false,
     "input": [
      "def func_to_minimize(params):\n",
      "    \"\"\"Returns the negative log probability of the data from a student t\n",
      "    distribution with the provided parameters.\"\"\"\n",
      "    mu, sigma, nu = params\n",
      "    pdf = scipy.stats.t(nu, loc=mu, scale=sigma).pdf\n",
      "    return -log_prob_data(events, pdf)"
     ],
     "language": "python",
     "metadata": {},
     "outputs": [],
     "prompt_number": 6
    },
    {
     "cell_type": "code",
     "collapsed": false,
     "input": [
      "initial_guess = [t_mu, t_sigma, t_nu]\n",
      "best_params = scipy.optimize.fmin(func_to_minimize, initial_guess)"
     ],
     "language": "python",
     "metadata": {},
     "outputs": [
      {
       "output_type": "stream",
       "stream": "stdout",
       "text": [
        "Optimization terminated successfully.\n",
        "         Current function value: 2133.607855\n",
        "         Iterations: 58\n",
        "         Function evaluations: 109\n"
       ]
      }
     ],
     "prompt_number": 7
    },
    {
     "cell_type": "code",
     "collapsed": false,
     "input": [
      "t_map_mu, t_map_sigma, t_map_nu = best_params\n",
      "for name, value in [('mu', t_map_mu), ('sigma', t_map_sigma), ('nu', t_map_nu)]:\n",
      "    print 'MAP {0}: {1}'.format(name, value)\n",
      "\n",
      "map_student_t_pdf = scipy.stats.t(t_map_nu, loc=t_map_mu, scale=t_map_sigma).pdf\n",
      "map_student_t_prob = log_prob_data(events, map_student_t_pdf)\n",
      "print 'Log probability of the data (Student t w/ MAP params): {0}'.format(map_student_t_prob)\n",
      "print '{0} times more probable than with our initial student t parameters'.format(np.exp(map_student_t_prob - student_t_prob))"
     ],
     "language": "python",
     "metadata": {},
     "outputs": [
      {
       "output_type": "stream",
       "stream": "stdout",
       "text": [
        "MAP mu: 2.22092512454\n",
        "MAP sigma: 1.52345938155\n",
        "MAP nu: 3.59467140035\n",
        "Log probability of the data (Student t w/ MAP params): -2133.60785489\n",
        "2.43127079087e+32 times more probable than with our initial student t parameters\n"
       ]
      }
     ],
     "prompt_number": 8
    },
    {
     "cell_type": "heading",
     "level": 3,
     "metadata": {},
     "source": [
      "Part 5: Fixing parameters at their MAP values, allow one parameter at a time to vary, and graph its Bayes posterior probability."
     ]
    },
    {
     "cell_type": "code",
     "collapsed": false,
     "input": [
      "xs = np.linspace(1, 5, num=1000)\n",
      "\n",
      "def scaled_posterior(nu, mu, sigma):\n",
      "    \"\"\"Returns something like the posterior probabilty of the data from a\n",
      "    Student t distribution with the provided parameters, but scaled\n",
      "    relative to map_student_t_prob.\"\"\"\n",
      "    pdf = scipy.stats.t(nu, loc=mu, scale=sigma).pdf\n",
      "    prob = log_prob_data(events, pdf)\n",
      "    return np.exp(prob - map_student_t_prob)\n",
      "                            \n",
      "vectorized_scaled_posterior = np.vectorize(scaled_posterior)\n",
      "                            \n",
      "y_varied_nu = vectorized_scaled_posterior(xs, t_map_mu, t_map_sigma)\n",
      "y_varied_mu = vectorized_scaled_posterior(t_map_nu, xs, t_map_sigma)\n",
      "y_varied_sigma = vectorized_scaled_posterior(t_map_nu, t_map_mu, xs)\n",
      "\n",
      "plt.plot(xs, y_varied_nu, label='nu')\n",
      "plt.plot(xs, y_varied_mu, label='mu')\n",
      "plt.plot(xs, y_varied_sigma, label='sigma')\n",
      "plt.legend()"
     ],
     "language": "python",
     "metadata": {},
     "outputs": [
      {
       "metadata": {},
       "output_type": "pyout",
       "prompt_number": 9,
       "text": [
        "<matplotlib.legend.Legend at 0x99443cc>"
       ]
      },
      {
       "metadata": {},
       "output_type": "display_data",
       "png": "[encoded data removed]",
       "text": [
        "<matplotlib.figure.Figure at 0x99558cc>"
       ]
      }
     ],
     "prompt_number": 9
    },
    {
     "cell_type": "heading",
     "level": 3,
     "metadata": {},
     "source": [
      "Part 6: Instead of fixing any parameter values, graph the Bayes posterior of each if you marginalize over the other two."
     ]
    },
    {
     "cell_type": "raw",
     "metadata": {},
     "source": [
      "Out of time..."
     ]
    }
   ],
   "metadata": {}
  }
 ]
}