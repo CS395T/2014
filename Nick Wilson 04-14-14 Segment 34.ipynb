{
 "metadata": {
  "name": ""
 },
 "nbformat": 3,
 "nbformat_minor": 0,
 "worksheets": [
  {
   "cells": [
    {
     "cell_type": "code",
     "collapsed": false,
     "input": [
      "import matplotlib.pyplot as plt\n",
      "import numpy as np\n",
      "import scipy.stats"
     ],
     "language": "python",
     "metadata": {},
     "outputs": [],
     "prompt_number": 1
    },
    {
     "cell_type": "markdown",
     "metadata": {},
     "source": [
      "Define the test statistics and test them on examples from the lectures."
     ]
    },
    {
     "cell_type": "code",
     "collapsed": false,
     "input": [
      "def pearson(counts):\n",
      "    counts = np.asarray(counts)\n",
      "    expected = scipy.stats.contingency.expected_freq(counts)\n",
      "    return np.sum((counts - expected)**2 / expected)\n",
      "\n",
      "assert np.allclose(pearson([[17066, 14464, 788, 126, 37], [48, 38, 5, 1, 1]]),\n",
      "                   12.0821, atol=0.0001)"
     ],
     "language": "python",
     "metadata": {},
     "outputs": [],
     "prompt_number": 2
    },
    {
     "cell_type": "code",
     "collapsed": false,
     "input": [
      "# TODO: Oops, this is 2x2 only... but the segment has a 3x3 table... ???\n",
      "\n",
      "def wald_2x2(counts):\n",
      "    counts = np.asarray(counts)\n",
      "    m, n = counts[0, 0], counts[0, 1]\n",
      "    M, N = counts.sum(axis=0)\n",
      "\n",
      "    p1_hat = m / float(M)\n",
      "    p2_hat = n / float(N)\n",
      "    p_hat = (m + n) / float(M + N)\n",
      "\n",
      "    numerator = p1_hat - p2_hat\n",
      "    denominator = np.sqrt(p_hat * (1 - p_hat) * ((1.0 / M) + (1.0 / N)))\n",
      "    return numerator / denominator\n",
      "\n",
      "assert np.allclose(wald_2x2([[8, 3], [16, 26]]), 2.0542, atol=0.0001)"
     ],
     "language": "python",
     "metadata": {},
     "outputs": [],
     "prompt_number": 3
    },
    {
     "cell_type": "markdown",
     "metadata": {},
     "source": [
      "Code for permuting tables and collecting test statistics from the permutations."
     ]
    },
    {
     "cell_type": "code",
     "collapsed": false,
     "input": [
      "def expand(table):\n",
      "    items = []\n",
      "    for row in xrange(table.shape[0]):\n",
      "        for col in xrange(table.shape[1]):\n",
      "            items.extend([[row, col]] * table[row, col])\n",
      "    expanded = np.array(items)\n",
      "    assert expanded.shape == (table.sum(), 2)\n",
      "    return expanded\n",
      "\n",
      "def shuffle(expanded_table):\n",
      "    expanded_table[:, 1] = np.random.permutation(expanded_table[:, 1])\n",
      "    return expanded_table\n",
      "\n",
      "def rebuild(expanded_table):\n",
      "    table = np.zeros(np.max(expanded_table, axis=0) + 1, dtype=int)\n",
      "    for item in expanded_table:\n",
      "        table[tuple(item)] += 1\n",
      "    assert expanded_table.shape == (table.sum(), 2)\n",
      "    return table\n",
      "\n",
      "def permute(table):\n",
      "    return rebuild(shuffle(expand(table)))\n",
      "\n",
      "def sanity_check():\n",
      "    table = np.arange(9).reshape(3, 3)\n",
      "    \n",
      "    # Expand and rebuild the same table.\n",
      "    assert np.all(rebuild(expand(table)) == table)\n",
      "\n",
      "    # Verify marginals are the same after shuffling.\n",
      "    marginals_before = np.array([table.sum(axis=0), table.sum(axis=1)])\n",
      "    permutation = permute(table)\n",
      "    marginals_after = np.array([permutation.sum(axis=0), permutation.sum(axis=1)])\n",
      "    assert np.all(marginals_before == marginals_after)\n",
      "\n",
      "sanity_check()"
     ],
     "language": "python",
     "metadata": {},
     "outputs": [],
     "prompt_number": 4
    },
    {
     "cell_type": "code",
     "collapsed": false,
     "input": [
      "def permutation_stats(table, num_permutations=100000, statistic_func=pearson):\n",
      "    stats = [statistic_func(permute(table)) for _ in xrange(num_permutations)]\n",
      "    return np.array(stats)"
     ],
     "language": "python",
     "metadata": {},
     "outputs": [],
     "prompt_number": 5
    },
    {
     "cell_type": "heading",
     "level": 2,
     "metadata": {},
     "source": [
      "Problem 1"
     ]
    },
    {
     "cell_type": "code",
     "collapsed": false,
     "input": [
      "table = np.array([[5, 3, 2],\n",
      "                  [2, 3, 6],\n",
      "                  [0, 2, 3]])\n",
      "table"
     ],
     "language": "python",
     "metadata": {},
     "outputs": [
      {
       "metadata": {},
       "output_type": "pyout",
       "prompt_number": 6,
       "text": [
        "array([[5, 3, 2],\n",
        "       [2, 3, 6],\n",
        "       [0, 2, 3]])"
       ]
      }
     ],
     "prompt_number": 6
    },
    {
     "cell_type": "code",
     "collapsed": false,
     "input": [
      "pearson(table)"
     ],
     "language": "python",
     "metadata": {},
     "outputs": [
      {
       "metadata": {},
       "output_type": "pyout",
       "prompt_number": 7,
       "text": [
        "5.7559917355371892"
       ]
      }
     ],
     "prompt_number": 7
    },
    {
     "cell_type": "code",
     "collapsed": false,
     "input": [
      "stats = permutation_stats(table, statistic_func=pearson)"
     ],
     "language": "python",
     "metadata": {},
     "outputs": [],
     "prompt_number": 8
    },
    {
     "cell_type": "code",
     "collapsed": false,
     "input": [
      "plt.hist(stats, bins=np.arange(20), histtype='step', fill=True, normed=True)\n",
      "plt.axvline(x=pearson(table), color='red', label='Pearson statistic for the table')\n",
      "plt.title('Permutation Stats')\n",
      "plt.legend()"
     ],
     "language": "python",
     "metadata": {},
     "outputs": [
      {
       "metadata": {},
       "output_type": "pyout",
       "prompt_number": 9,
       "text": [
        "<matplotlib.legend.Legend at 0xab0aaac>"
       ]
      },
      {
       "metadata": {},
       "output_type": "display_data",
       "png": "[encoded data removed]",
       "text": [
        "<matplotlib.figure.Figure at 0xa95070c>"
       ]
      }
     ],
     "prompt_number": 9
    },
    {
     "cell_type": "code",
     "collapsed": false,
     "input": [
      "pval = np.mean(stats >= pearson(table))\n",
      "pval"
     ],
     "language": "python",
     "metadata": {},
     "outputs": [
      {
       "metadata": {},
       "output_type": "pyout",
       "prompt_number": 10,
       "text": [
        "0.22777"
       ]
      }
     ],
     "prompt_number": 10
    },
    {
     "cell_type": "markdown",
     "metadata": {},
     "source": [
      "Not significant!"
     ]
    }
   ],
   "metadata": {}
  }
 ]
}