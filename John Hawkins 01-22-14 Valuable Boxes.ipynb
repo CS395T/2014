{
 "metadata": {
  "name": ""
 },
 "nbformat": 3,
 "nbformat_minor": 0,
 "worksheets": [
  {
   "cells": [
    {
     "cell_type": "code",
     "collapsed": false,
     "input": [
      "# Here we calculate the posterior probability that the box in hand is good\n",
      "\n",
      "# Assume as a prior that there are 3 of 13 good boxes\n",
      "priorG = 3.0/13.0\n",
      "priorB = 1.0-priorG\n",
      "print 'P( HG ) = ',priorG,' '*7,\n",
      "print 'P( HB ) = ',priorB\n",
      "\n",
      "# Calculate posteriors that box in hand is good box\n",
      "piG = 9.0/10.0 * priorG\n",
      "piB = 2.0/10.0 * priorB\n",
      "posteriorG = piG/(piG + piB)\n",
      "posteriorB = piB/(piG + piB)\n",
      "print 'P( HG | data ) = ',posteriorG,' '*7,\n",
      "print 'P( HB | data ) = ',posteriorB\n",
      "print\n",
      "print 'P( V | data ) = ',(8.0/9.0 * posteriorG + 1.0/9.0 * posteriorB) "
     ],
     "language": "python",
     "metadata": {},
     "outputs": [
      {
       "output_type": "stream",
       "stream": "stdout",
       "text": [
        "P( HG ) =  0.230769230769         P( HB ) =  0.769230769231\n",
        "P( HG | data ) =  0.574468085106         P( HB | data ) =  0.425531914894\n",
        "\n",
        "P( V | data ) =  0.557919621749\n"
       ]
      }
     ],
     "prompt_number": 32
    },
    {
     "cell_type": "code",
     "collapsed": false,
     "input": [
      "# Here we calculate the posterior distribution of the number of good boxes\n",
      "\n",
      "def update_priors(priors):\n",
      "    priors = [(9.0/10.0*float(i)/13.0 + 2.0/10.0*(13.0-float(i))/13.0)*priors[i]\\\n",
      "              for i in range(len(priors))]\n",
      "    return [p/sum(priors) for p in priors]\n",
      "\n",
      "def p_v_given_Hi_data(i):\n",
      "    pi_HG_given_Hi_data = 9.0/10.0*float(i)/13.0\n",
      "    pi_HB_given_Hi_data = 2.0/10.0*(13.0-float(i))/13.0\n",
      "    p_HG_given_Hi_data = pi_HG_given_Hi_data/(pi_HG_given_Hi_data + pi_HB_given_Hi_data)\n",
      "    p_HB_given_Hi_data = pi_HB_given_Hi_data/(pi_HG_given_Hi_data + pi_HB_given_Hi_data)\n",
      "    \n",
      "    return 8.0/9.0*p_HG_given_Hi_data + 1.0/9.0*p_HB_given_Hi_data\n",
      "    \n",
      "    \n",
      "def p_next_valuable(priors):\n",
      "    return sum( p_v_given_Hi_data(i)*priors[i] for i in range(len(priors)))\n",
      "\n",
      "priors = [0.0, 0.0, 0.0, 1.0] + [0.0] * 9\n",
      "posteriors = update_priors(priors)\n",
      "print 'Assuming 3 good boxes:'\n",
      "print 'Priors:    ',priors\n",
      "print 'Posteriors:',posteriors\n",
      "print 'P( V | data ) = ',p_next_valuable(posteriors)\n",
      "print \n",
      "\n",
      "print 'Assuming following prior distribution:'\n",
      "priors = [0.0, 0.0, .2, .3, .3, .1, .1] + [0.0] * 7\n",
      "posteriors = update_priors(priors)\n",
      "print 'Priors:    ',priors\n",
      "print 'Posteriors:',posteriors\n",
      "print 'P( V | data ) = ',p_next_valuable(posteriors)\n"
     ],
     "language": "python",
     "metadata": {},
     "outputs": [
      {
       "output_type": "stream",
       "stream": "stdout",
       "text": [
        "Assuming 3 good boxes:\n",
        "Priors:     [0.0, 0.0, 0.0, 1.0, 0.0, 0.0, 0.0, 0.0, 0.0, 0.0, 0.0, 0.0, 0.0]\n",
        "Posteriors: [0.0, 0.0, 0.0, 1.0, 0.0, 0.0, 0.0, 0.0, 0.0, 0.0, 0.0, 0.0, 0.0]\n",
        "P( V | data ) =  0.557919621749\n",
        "\n",
        "Assuming following prior distribution:\n",
        "Priors:     [0.0, 0.0, 0.2, 0.3, 0.3, 0.1, 0.1, 0.0, 0.0, 0.0, 0.0, 0.0, 0.0, 0.0]\n",
        "Posteriors: [0.0, 0.0, 0.15625, 0.275390625, 0.31640624999999994, 0.119140625, 0.1328125, 0.0, 0.0, 0.0, 0.0, 0.0, 0.0, 0.0]\n",
        "P( V | data ) =  0.603298611111\n"
       ]
      }
     ],
     "prompt_number": 38
    },
    {
     "cell_type": "code",
     "collapsed": false,
     "input": [
      "publish_snapshot('John Hawkins 01-22-14 Valuable Boxes.ipynb')"
     ],
     "language": "python",
     "metadata": {},
     "outputs": [
      {
       "ename": "CalledProcessError",
       "evalue": "Command '['git', 'commit', '-m', 'John Hawkins 01-22-14 Valuable Boxes.ipynb']' returned non-zero exit status 1",
       "output_type": "pyerr",
       "traceback": [
        "\u001b[1;31m---------------------------------------------------------------------------\u001b[0m\n\u001b[1;31mCalledProcessError\u001b[0m                        Traceback (most recent call last)",
        "\u001b[1;32m<ipython-input-40-5cd242d7e9da>\u001b[0m in \u001b[0;36m<module>\u001b[1;34m()\u001b[0m\n\u001b[1;32m----> 1\u001b[1;33m \u001b[0mpublish_snapshot\u001b[0m\u001b[1;33m(\u001b[0m\u001b[1;34m'John Hawkins 01-22-14 Valuable Boxes.ipynb'\u001b[0m\u001b[1;33m)\u001b[0m\u001b[1;33m\u001b[0m\u001b[0m\n\u001b[0m",
        "\u001b[1;32m/home/notebook/2014/publish_snapshot.pyc\u001b[0m in \u001b[0;36mpublish_snapshot\u001b[1;34m(file_name)\u001b[0m\n\u001b[0;32m      3\u001b[0m \u001b[1;32mdef\u001b[0m \u001b[0mpublish_snapshot\u001b[0m\u001b[1;33m(\u001b[0m\u001b[0mfile_name\u001b[0m\u001b[1;33m)\u001b[0m\u001b[1;33m:\u001b[0m\u001b[1;33m\u001b[0m\u001b[0m\n\u001b[0;32m      4\u001b[0m     \u001b[0msubprocess\u001b[0m\u001b[1;33m.\u001b[0m\u001b[0mcheck_call\u001b[0m\u001b[1;33m(\u001b[0m\u001b[1;33m[\u001b[0m\u001b[1;34m'git'\u001b[0m\u001b[1;33m,\u001b[0m \u001b[1;34m'add'\u001b[0m\u001b[1;33m,\u001b[0m \u001b[0mfile_name\u001b[0m\u001b[1;33m]\u001b[0m\u001b[1;33m)\u001b[0m\u001b[1;33m\u001b[0m\u001b[0m\n\u001b[1;32m----> 5\u001b[1;33m     \u001b[0msubprocess\u001b[0m\u001b[1;33m.\u001b[0m\u001b[0mcheck_call\u001b[0m\u001b[1;33m(\u001b[0m\u001b[1;33m[\u001b[0m\u001b[1;34m'git'\u001b[0m\u001b[1;33m,\u001b[0m \u001b[1;34m'commit'\u001b[0m\u001b[1;33m,\u001b[0m \u001b[1;34m'-m'\u001b[0m\u001b[1;33m,\u001b[0m \u001b[0mfile_name\u001b[0m\u001b[1;33m]\u001b[0m\u001b[1;33m)\u001b[0m\u001b[1;33m\u001b[0m\u001b[0m\n\u001b[0m\u001b[0;32m      6\u001b[0m     \u001b[0msubprocess\u001b[0m\u001b[1;33m.\u001b[0m\u001b[0mcheck_call\u001b[0m\u001b[1;33m(\u001b[0m\u001b[1;33m[\u001b[0m\u001b[1;34m'git'\u001b[0m\u001b[1;33m,\u001b[0m \u001b[1;34m'push'\u001b[0m\u001b[1;33m,\u001b[0m \u001b[1;34m'origin'\u001b[0m\u001b[1;33m,\u001b[0m \u001b[1;34m'master'\u001b[0m\u001b[1;33m]\u001b[0m\u001b[1;33m)\u001b[0m\u001b[1;33m\u001b[0m\u001b[0m\n\u001b[0;32m      7\u001b[0m     \u001b[0msanitized_fn\u001b[0m \u001b[1;33m=\u001b[0m \u001b[0mfile_name\u001b[0m\u001b[1;33m.\u001b[0m\u001b[0mreplace\u001b[0m\u001b[1;33m(\u001b[0m\u001b[1;34m' '\u001b[0m\u001b[1;33m,\u001b[0m \u001b[1;34m'%20'\u001b[0m\u001b[1;33m)\u001b[0m\u001b[1;33m\u001b[0m\u001b[0m\n",
        "\u001b[1;32m/usr/lib/python2.7/subprocess.pyc\u001b[0m in \u001b[0;36mcheck_call\u001b[1;34m(*popenargs, **kwargs)\u001b[0m\n\u001b[0;32m    509\u001b[0m         \u001b[1;32mif\u001b[0m \u001b[0mcmd\u001b[0m \u001b[1;32mis\u001b[0m \u001b[0mNone\u001b[0m\u001b[1;33m:\u001b[0m\u001b[1;33m\u001b[0m\u001b[0m\n\u001b[0;32m    510\u001b[0m             \u001b[0mcmd\u001b[0m \u001b[1;33m=\u001b[0m \u001b[0mpopenargs\u001b[0m\u001b[1;33m[\u001b[0m\u001b[1;36m0\u001b[0m\u001b[1;33m]\u001b[0m\u001b[1;33m\u001b[0m\u001b[0m\n\u001b[1;32m--> 511\u001b[1;33m         \u001b[1;32mraise\u001b[0m \u001b[0mCalledProcessError\u001b[0m\u001b[1;33m(\u001b[0m\u001b[0mretcode\u001b[0m\u001b[1;33m,\u001b[0m \u001b[0mcmd\u001b[0m\u001b[1;33m)\u001b[0m\u001b[1;33m\u001b[0m\u001b[0m\n\u001b[0m\u001b[0;32m    512\u001b[0m     \u001b[1;32mreturn\u001b[0m \u001b[1;36m0\u001b[0m\u001b[1;33m\u001b[0m\u001b[0m\n\u001b[0;32m    513\u001b[0m \u001b[1;33m\u001b[0m\u001b[0m\n",
        "\u001b[1;31mCalledProcessError\u001b[0m: Command '['git', 'commit', '-m', 'John Hawkins 01-22-14 Valuable Boxes.ipynb']' returned non-zero exit status 1"
       ]
      }
     ],
     "prompt_number": 40
    },
    {
     "cell_type": "code",
     "collapsed": false,
     "input": [],
     "language": "python",
     "metadata": {},
     "outputs": []
    }
   ],
   "metadata": {}
  }
 ]
}