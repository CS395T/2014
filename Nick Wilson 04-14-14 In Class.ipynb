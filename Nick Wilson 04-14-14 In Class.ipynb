{
 "metadata": {
  "name": ""
 },
 "nbformat": 3,
 "nbformat_minor": 0,
 "worksheets": [
  {
   "cells": [
    {
     "cell_type": "markdown",
     "metadata": {},
     "source": [
      "The goal of this activity was to speed up the permutation test. I wrote two different implementations. The \"naive\" implementation uses the method presented in the segment that expands the $N$ counts in the table to an $N \\times 2$ matrix, shuffles the second column, then reassembles it into a new table. The \"hypergeometric\" implementation fills in cells in a new table by sampling from the hypergeometric distribution. It makes use of numpy's questionable implementation of the questionable hypergeometric sampling algorithm."
     ]
    },
    {
     "cell_type": "code",
     "collapsed": false,
     "input": [
      "import matplotlib.pyplot as plt\n",
      "import numpy as np\n",
      "import scipy.stats\n",
      "\n",
      "np.random.seed(42)"
     ],
     "language": "python",
     "metadata": {},
     "outputs": [],
     "prompt_number": 1
    },
    {
     "cell_type": "heading",
     "level": 3,
     "metadata": {},
     "source": [
      "Define some contingency tables."
     ]
    },
    {
     "cell_type": "code",
     "collapsed": false,
     "input": [
      "# In class R/Python/Matlab A/B/C example.\n",
      "language_grade_table = np.array([[4,  1,  14],\n",
      "                                 [10, 6,  14],\n",
      "                                 [51, 35, 60]])\n",
      "language_grade_table"
     ],
     "language": "python",
     "metadata": {},
     "outputs": [
      {
       "metadata": {},
       "output_type": "pyout",
       "prompt_number": 2,
       "text": [
        "array([[ 4,  1, 14],\n",
        "       [10,  6, 14],\n",
        "       [51, 35, 60]])"
       ]
      }
     ],
     "prompt_number": 2
    },
    {
     "cell_type": "code",
     "collapsed": false,
     "input": [
      "# Drinking and pregnancy.\n",
      "alcohol_table = np.array([[17066, 14464, 788, 126, 37],\n",
      "                          [   48,    38,   5,   1,  1]])\n",
      "alcohol_table"
     ],
     "language": "python",
     "metadata": {},
     "outputs": [
      {
       "metadata": {},
       "output_type": "pyout",
       "prompt_number": 3,
       "text": [
        "array([[17066, 14464,   788,   126,    37],\n",
        "       [   48,    38,     5,     1,     1]])"
       ]
      }
     ],
     "prompt_number": 3
    },
    {
     "cell_type": "heading",
     "level": 3,
     "metadata": {},
     "source": [
      "Define two different methods for doing permutation tests."
     ]
    },
    {
     "cell_type": "code",
     "collapsed": false,
     "input": [
      "class BasePermutationTest(object):\n",
      "    \"\"\"Base class for permutation tests.\n",
      "\n",
      "    Subclasses need to override the `permute` method.\n",
      "    \"\"\"\n",
      "    def __init__(self, table):\n",
      "        self.table = table.copy()\n",
      "        self.table_stat = self.pearson(self.table)\n",
      "        self.permutation_stats = None\n",
      "\n",
      "    def compute_permutation_stats(self, num_stats=10000):\n",
      "        \"\"\"Compute `num_stats` pearson stats from random permutations.\"\"\"\n",
      "        self.permutation_stats = np.array([self.pearson(self.permute())\n",
      "                                           for _ in xrange(num_stats)])\n",
      "\n",
      "    def compute_pvalue(self):\n",
      "        \"\"\"Compute the p-value after computing the stats.\"\"\"\n",
      "        return np.mean(self.permutation_stats >= self.table_stat)\n",
      "\n",
      "    def pearson(self, table):\n",
      "        \"\"\"Pearson statistic.\"\"\"\n",
      "        expected = scipy.stats.contingency.expected_freq(table)\n",
      "        return np.sum((table - expected)**2 / expected)\n",
      "\n",
      "    def permute(self):\n",
      "        \"\"\"Returns a random permutation of the table.\"\"\"\n",
      "        raise NotImplementedError()"
     ],
     "language": "python",
     "metadata": {},
     "outputs": [],
     "prompt_number": 4
    },
    {
     "cell_type": "code",
     "collapsed": false,
     "input": [
      "class NaivePermutationTest(BasePermutationTest):\n",
      "    \"\"\"Naive/slow implementation of permutation tests.\n",
      "    \n",
      "    This could easily be optimized a bit with matrix operations, etc...\n",
      "    \"\"\"\n",
      "\n",
      "    def permute(self):\n",
      "        return self._rebuild(self._shuffle(self._expand(self.table)))\n",
      "\n",
      "    def _expand(self, table):\n",
      "        # Expand all the counts into an Nx2 matrix.\n",
      "        items = []\n",
      "        for row in xrange(table.shape[0]):\n",
      "            for col in xrange(table.shape[1]):\n",
      "                items.extend([[row, col]] * table[row, col])\n",
      "        expanded = np.array(items)\n",
      "        #assert expanded.shape == (table.sum(), 2)\n",
      "        return expanded\n",
      "\n",
      "    def _shuffle(self, expanded_table):\n",
      "        # Shuffle the second column of the expanded table.\n",
      "        expanded_table[:, 1] = np.random.permutation(expanded_table[:, 1])\n",
      "        return expanded_table\n",
      "\n",
      "    def _rebuild(self, expanded_table):\n",
      "        # Rebuild the expanded table into a normal table.\n",
      "        table = np.zeros(np.max(expanded_table, axis=0) + 1, dtype=int)\n",
      "        for item in expanded_table:\n",
      "            table[tuple(item)] += 1\n",
      "        #assert (table.sum(), 2) == expanded_table.shape\n",
      "        return table"
     ],
     "language": "python",
     "metadata": {},
     "outputs": [],
     "prompt_number": 5
    },
    {
     "cell_type": "code",
     "collapsed": false,
     "input": [
      "class HypergeometricPermutationTest(BasePermutationTest):\n",
      "    \"\"\"Hypergeometric implementation of permutation tests.\n",
      "    \n",
      "    See the comments in permute() for details.\n",
      "    \"\"\"\n",
      "    def __init__(self, table, debug=False):\n",
      "        super(HypergeometricPermutationTest, self).__init__(table)\n",
      "        self.debug = debug\n",
      "\n",
      "    def permute(self):\n",
      "        table = self.table\n",
      "        nrow, ncol = table.shape\n",
      "        self._debug('Original table:')\n",
      "        self._debug(table)\n",
      "\n",
      "        # `permuted` starts out as a matrix of zeros with the same\n",
      "        # dimensions as the original table. `row_counts` and `col_counts`\n",
      "        # start off containing the row and column marginals. For example,\n",
      "        # if the original table is:\n",
      "        #     4   1  14\n",
      "        #    10   6  14\n",
      "        #    51  35  60\n",
      "        #\n",
      "        # then we would start out as:\n",
      "        #\n",
      "        #     0   0   0 |  19\n",
      "        #     0   0   0 |  30\n",
      "        #     0   0   0 | 146\n",
      "        #    -----------\n",
      "        #    65  42  88\n",
      "        #\n",
      "        # As counts are placed in `permuted`, they are subtracted from\n",
      "        # the row and column counts in order to keep track of how many\n",
      "        # items still need to be placed in the table.\n",
      "        permuted = np.zeros((nrow, ncol), dtype=int)\n",
      "        col_counts = np.sum(table, axis=0)\n",
      "        row_counts = np.sum(table, axis=1)\n",
      "\n",
      "        def print_state():\n",
      "            # Print the current table and the row/column counts.\n",
      "            if self.debug:\n",
      "                m = np.zeros((nrow + 1, ncol + 1), dtype=int)\n",
      "                m[:-1, :-1] = permuted\n",
      "                m[-1, :ncol] = col_counts\n",
      "                m[:nrow, -1] = row_counts\n",
      "                self._debug(m)\n",
      "\n",
      "        self._debug('Original state:')\n",
      "        print_state()\n",
      "\n",
      "        # With fixed marginals, the table has f = (nrow - 1) x (ncol - 1)\n",
      "        # degrees of freedom. Loop through the f cells at the top left of\n",
      "        # the table and fill them in by sampling from the hypergeometric\n",
      "        # distribution.\n",
      "        for row in xrange(nrow - 1):\n",
      "            for col in xrange(ncol - 1):\n",
      "                row_count = row_counts\n",
      "                self._debug('Filling in ({0},{1})'.format(row, col))\n",
      "\n",
      "                # Compute the cell value.\n",
      "                n_col = col_counts[col]\n",
      "                n_other_cols = col_counts[(col + 1):].sum()\n",
      "                n_row = row_counts[row]\n",
      "                if n_row > 0:\n",
      "                    self._debug('hyper({}, {}, {})'.format(n_col, n_other_cols, n_row))\n",
      "                    n_cell = np.random.hypergeometric(n_col, n_other_cols, n_row)\n",
      "                else:\n",
      "                    # This row is already full.\n",
      "                    n_cell = 0\n",
      "\n",
      "                # Fill in the cell and update the counts.\n",
      "                permuted[row, col] = n_cell\n",
      "                row_counts[row] -= n_cell\n",
      "                col_counts[col] -= n_cell\n",
      "\n",
      "                print_state()\n",
      "\n",
      "        self._debug('Filling in the first {0} values in the last row.'.format(ncol - 1))\n",
      "        permuted[-1, :-1] += col_counts[:-1]\n",
      "        row_counts[-1] -= col_counts[:-1].sum()\n",
      "        col_counts[:-1] = 0\n",
      "        print_state()\n",
      "\n",
      "        self._debug('Filling in the first {0} values in the last column.'.format(nrow - 1))\n",
      "        permuted[:-1, -1] += row_counts[:-1]\n",
      "        col_counts[-1] -= row_counts[:-1].sum()\n",
      "        row_counts[:-1] = 0\n",
      "        print_state()\n",
      "\n",
      "        self._debug('Filling in the final cell at the bottom right corner')\n",
      "        assert row_counts[-1] == col_counts[-1]\n",
      "        permuted[-1, -1] = col_counts[-1]\n",
      "        row_counts[-1] = 0\n",
      "        col_counts[-1] = 0\n",
      "        print_state()\n",
      "        \n",
      "        return permuted\n",
      "\n",
      "    def _debug(self, message):\n",
      "        if self.debug:\n",
      "            print message\n",
      "\n",
      "\n",
      "def sanity_check_hyper(table):\n",
      "    \"\"\"Do some sanity checks of the hypergeometric permutation maker.\"\"\"\n",
      "    col_marginals = np.sum(table, axis=0)\n",
      "    row_marginals = np.sum(table, axis=1)\n",
      "\n",
      "    hyper = HypergeometricPermutationTest(table)\n",
      "    for _ in xrange(100):\n",
      "        permuted = hyper.permute()\n",
      "        assert np.all(permuted >= 0)\n",
      "        assert np.all(np.sum(permuted, axis=0) == col_marginals)\n",
      "        assert np.all(np.sum(permuted, axis=1) == row_marginals)\n",
      "\n",
      "sanity_check_hyper(np.arange(9).reshape(3, 3))\n",
      "sanity_check_hyper(np.arange(8).reshape(2, 4))\n",
      "sanity_check_hyper(language_grade_table)\n",
      "sanity_check_hyper(alcohol_table)"
     ],
     "language": "python",
     "metadata": {},
     "outputs": [],
     "prompt_number": 6
    },
    {
     "cell_type": "code",
     "collapsed": false,
     "input": [
      "# Let's see one example hypergeometric permutation in detail.\n",
      "HypergeometricPermutationTest(language_grade_table, debug=True).permute()"
     ],
     "language": "python",
     "metadata": {},
     "outputs": [
      {
       "output_type": "stream",
       "stream": "stdout",
       "text": [
        "Original table:\n",
        "[[ 4  1 14]\n",
        " [10  6 14]\n",
        " [51 35 60]]\n",
        "Original state:\n",
        "[[  0   0   0  19]\n",
        " [  0   0   0  30]\n",
        " [  0   0   0 146]\n",
        " [ 65  42  88   0]]\n",
        "Filling in (0,0)\n",
        "hyper(65, 130, 19)\n",
        "[[  4   0   0  15]\n",
        " [  0   0   0  30]\n",
        " [  0   0   0 146]\n",
        " [ 61  42  88   0]]\n",
        "Filling in (0,1)\n",
        "hyper(42, 88, 15)\n",
        "[[  4   8   0   7]\n",
        " [  0   0   0  30]\n",
        " [  0   0   0 146]\n",
        " [ 61  34  88   0]]\n",
        "Filling in (1,0)\n",
        "hyper(61, 122, 30)\n",
        "[[  4   8   0   7]\n",
        " [  6   0   0  24]\n",
        " [  0   0   0 146]\n",
        " [ 55  34  88   0]]\n",
        "Filling in (1,1)\n",
        "hyper(34, 88, 24)\n",
        "[[  4   8   0   7]\n",
        " [  6   9   0  15]\n",
        " [  0   0   0 146]\n",
        " [ 55  25  88   0]]\n",
        "Filling in the first 2 values in the last row.\n",
        "[[ 4  8  0  7]\n",
        " [ 6  9  0 15]\n",
        " [55 25  0 66]\n",
        " [ 0  0 88  0]]\n",
        "Filling in the first 2 values in the last column.\n",
        "[[ 4  8  7  0]\n",
        " [ 6  9 15  0]\n",
        " [55 25  0 66]\n",
        " [ 0  0 66  0]]\n",
        "Filling in the final cell at the bottom right corner\n",
        "[[ 4  8  7  0]\n",
        " [ 6  9 15  0]\n",
        " [55 25 66  0]\n",
        " [ 0  0  0  0]]\n"
       ]
      },
      {
       "metadata": {},
       "output_type": "pyout",
       "prompt_number": 7,
       "text": [
        "array([[ 4,  8,  7],\n",
        "       [ 6,  9, 15],\n",
        "       [55, 25, 66]])"
       ]
      }
     ],
     "prompt_number": 7
    },
    {
     "cell_type": "code",
     "collapsed": false,
     "input": [
      "# And try a full permutation test with the hypergeometric implementation.\n",
      "hyper = HypergeometricPermutationTest(language_grade_table)\n",
      "hyper.compute_permutation_stats(num_stats=10000)\n",
      "print 'p-val: {0}'.format(hyper.compute_pvalue())\n",
      "plt.hist(hyper.permutation_stats, bins=50)\n",
      "plt.title('Distribution of pearson statistics')"
     ],
     "language": "python",
     "metadata": {},
     "outputs": [
      {
       "output_type": "stream",
       "stream": "stdout",
       "text": [
        "p-val: 0.1039\n"
       ]
      },
      {
       "metadata": {},
       "output_type": "pyout",
       "prompt_number": 8,
       "text": [
        "<matplotlib.text.Text at 0xb21d52c>"
       ]
      },
      {
       "metadata": {},
       "output_type": "display_data",
       "png": "[encoded data removed]",
       "text": [
        "<matplotlib.figure.Figure at 0xb1732cc>"
       ]
      }
     ],
     "prompt_number": 8
    },
    {
     "cell_type": "heading",
     "level": 3,
     "metadata": {},
     "source": [
      "Do some speed comparisons."
     ]
    },
    {
     "cell_type": "code",
     "collapsed": false,
     "input": [
      "def compare(perm_class_1, perm_class_2, table, num_stats=10000):\n",
      "    print 'Doing {0} permutations'.format(num_stats)\n",
      "    print\n",
      "    for cls in (perm_class_1, perm_class_2):\n",
      "        perm_test = cls(table)\n",
      "        print '{0}: '.format(perm_test.__class__.__name__)\n",
      "        %time perm_test.compute_permutation_stats(num_stats=num_stats)\n",
      "        print 'pval: {0}'.format(perm_test.compute_pvalue())\n",
      "        print"
     ],
     "language": "python",
     "metadata": {},
     "outputs": [],
     "prompt_number": 9
    },
    {
     "cell_type": "markdown",
     "metadata": {},
     "source": [
      "First, let's try 100,000 permutations on the language/grade table."
     ]
    },
    {
     "cell_type": "code",
     "collapsed": false,
     "input": [
      "language_grade_table"
     ],
     "language": "python",
     "metadata": {},
     "outputs": [
      {
       "metadata": {},
       "output_type": "pyout",
       "prompt_number": 10,
       "text": [
        "array([[ 4,  1, 14],\n",
        "       [10,  6, 14],\n",
        "       [51, 35, 60]])"
       ]
      }
     ],
     "prompt_number": 10
    },
    {
     "cell_type": "code",
     "collapsed": false,
     "input": [
      "compare(NaivePermutationTest, HypergeometricPermutationTest, language_grade_table)"
     ],
     "language": "python",
     "metadata": {},
     "outputs": [
      {
       "output_type": "stream",
       "stream": "stdout",
       "text": [
        "Doing 10000 permutations\n",
        "\n",
        "NaivePermutationTest: \n",
        "CPU times: user 9.78 s, sys: 0 ns, total: 9.78 s"
       ]
      },
      {
       "output_type": "stream",
       "stream": "stdout",
       "text": [
        "\n",
        "Wall time: 9.86 s\n",
        "pval: 0.1016\n",
        "\n",
        "HypergeometricPermutationTest: \n",
        "CPU times: user 3.12 s, sys: 0 ns, total: 3.12 s"
       ]
      },
      {
       "output_type": "stream",
       "stream": "stdout",
       "text": [
        "\n",
        "Wall time: 3.13 s\n",
        "pval: 0.1023\n",
        "\n"
       ]
      }
     ],
     "prompt_number": 11
    },
    {
     "cell_type": "markdown",
     "metadata": {},
     "source": [
      "The hypergeometric method runs about 3 times faster on this table. Decent, but not that impressive especially considering that the naive implementation could easily be optimized.\n",
      "\n",
      "The real benefits of the hypergeometric method start to show when the counts in the table get larger. The naive implementation takes significantly longer (and more memory) because it expands every item in the table. The hypergeometric implementation, on the other hand, doesn't slow down with more counts in the table. To see this, let's try doubling the counts in the table."
     ]
    },
    {
     "cell_type": "code",
     "collapsed": false,
     "input": [
      "language_grade_table * 2"
     ],
     "language": "python",
     "metadata": {},
     "outputs": [
      {
       "metadata": {},
       "output_type": "pyout",
       "prompt_number": 12,
       "text": [
        "array([[  8,   2,  28],\n",
        "       [ 20,  12,  28],\n",
        "       [102,  70, 120]])"
       ]
      }
     ],
     "prompt_number": 12
    },
    {
     "cell_type": "code",
     "collapsed": false,
     "input": [
      "compare(NaivePermutationTest, HypergeometricPermutationTest, language_grade_table * 2)"
     ],
     "language": "python",
     "metadata": {},
     "outputs": [
      {
       "output_type": "stream",
       "stream": "stdout",
       "text": [
        "Doing 10000 permutations\n",
        "\n",
        "NaivePermutationTest: \n",
        "CPU times: user 17.6 s, sys: 4 ms, total: 17.6 s"
       ]
      },
      {
       "output_type": "stream",
       "stream": "stdout",
       "text": [
        "\n",
        "Wall time: 17.7 s\n",
        "pval: 0.0028\n",
        "\n",
        "HypergeometricPermutationTest: \n",
        "CPU times: user 3.1 s, sys: 0 ns, total: 3.1 s"
       ]
      },
      {
       "output_type": "stream",
       "stream": "stdout",
       "text": [
        "\n",
        "Wall time: 3.1 s\n",
        "pval: 0.0055\n",
        "\n"
       ]
      }
     ],
     "prompt_number": 13
    },
    {
     "cell_type": "markdown",
     "metadata": {},
     "source": [
      "Now let's try things out on the alcohol table. This should be interesting since the counts are so much larger."
     ]
    },
    {
     "cell_type": "code",
     "collapsed": false,
     "input": [
      "alcohol_table"
     ],
     "language": "python",
     "metadata": {},
     "outputs": [
      {
       "metadata": {},
       "output_type": "pyout",
       "prompt_number": 14,
       "text": [
        "array([[17066, 14464,   788,   126,    37],\n",
        "       [   48,    38,     5,     1,     1]])"
       ]
      }
     ],
     "prompt_number": 14
    },
    {
     "cell_type": "code",
     "collapsed": false,
     "input": [
      "compare(NaivePermutationTest, HypergeometricPermutationTest, alcohol_table, num_stats=1000)"
     ],
     "language": "python",
     "metadata": {},
     "outputs": [
      {
       "output_type": "stream",
       "stream": "stdout",
       "text": [
        "Doing 1000 permutations\n",
        "\n",
        "NaivePermutationTest: \n",
        "CPU times: user 2min 12s, sys: 184 ms, total: 2min 12s"
       ]
      },
      {
       "output_type": "stream",
       "stream": "stdout",
       "text": [
        "\n",
        "Wall time: 2min 12s\n",
        "pval: 0.027\n",
        "\n",
        "HypergeometricPermutationTest: \n",
        "CPU times: user 324 ms, sys: 0 ns, total: 324 ms"
       ]
      },
      {
       "output_type": "stream",
       "stream": "stdout",
       "text": [
        "\n",
        "Wall time: 325 ms\n",
        "pval: 0.026\n",
        "\n"
       ]
      }
     ],
     "prompt_number": 15
    },
    {
     "cell_type": "markdown",
     "metadata": {},
     "source": [
      "The naive method takes a couple minutes for 1000 permutations while the hypergeometric method completes in well under a second.\n",
      "\n",
      "The hypergeometric method can handle 100,000 permutations without too much trouble:"
     ]
    },
    {
     "cell_type": "code",
     "collapsed": false,
     "input": [
      "hyper = HypergeometricPermutationTest(alcohol_table)\n",
      "%time hyper.compute_permutation_stats(num_stats=100000)\n",
      "print 'p-val: {0}'.format(hyper.compute_pvalue())\n",
      "plt.hist(hyper.permutation_stats, bins=50)\n",
      "plt.xlim(0, 50)\n",
      "plt.title('Distribution of pearson statistics')"
     ],
     "language": "python",
     "metadata": {},
     "outputs": [
      {
       "output_type": "stream",
       "stream": "stdout",
       "text": [
        "CPU times: user 32.8 s, sys: 12 ms, total: 32.8 s\n",
        "Wall time: 32.9 s\n",
        "p-val: 0.03467\n"
       ]
      },
      {
       "metadata": {},
       "output_type": "pyout",
       "prompt_number": 16,
       "text": [
        "<matplotlib.text.Text at 0xb3616ac>"
       ]
      },
      {
       "metadata": {},
       "output_type": "display_data",
       "png": "[encoded data removed]",
       "text": [
        "<matplotlib.figure.Figure at 0xb23f8ec>"
       ]
      }
     ],
     "prompt_number": 16
    }
   ],
   "metadata": {}
  }
 ]
}