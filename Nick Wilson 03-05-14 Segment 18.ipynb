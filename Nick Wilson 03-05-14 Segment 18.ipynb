{
 "metadata": {
  "name": ""
 },
 "nbformat": 3,
 "nbformat_minor": 0,
 "worksheets": [
  {
   "cells": [
    {
     "cell_type": "code",
     "collapsed": false,
     "input": [
      "import matplotlib.pyplot as plt\n",
      "import numpy as np\n",
      "\n",
      "np.random.seed(42)"
     ],
     "language": "python",
     "metadata": {},
     "outputs": [],
     "prompt_number": 1
    },
    {
     "cell_type": "heading",
     "level": 3,
     "metadata": {},
     "source": [
      "Problem 1"
     ]
    },
    {
     "cell_type": "markdown",
     "metadata": {},
     "source": [
      "Generate points on a circle."
     ]
    },
    {
     "cell_type": "code",
     "collapsed": false,
     "input": [
      "angles = np.random.random(10000) * 2.0 * np.pi\n",
      "radius = 1.0\n",
      "x = np.cos(angles) * radius\n",
      "y = np.sin(angles) * radius\n",
      "plt.scatter(x, y, s=1)\n",
      "plt.gca().set_aspect('equal')"
     ],
     "language": "python",
     "metadata": {},
     "outputs": [
      {
       "metadata": {},
       "output_type": "display_data",
       "png": "[encoded data removed]",
       "text": [
        "<matplotlib.figure.Figure at 0x9ffd92c>"
       ]
      }
     ],
     "prompt_number": 2
    },
    {
     "cell_type": "markdown",
     "metadata": {},
     "source": [
      "Compute the covariance matrix."
     ]
    },
    {
     "cell_type": "code",
     "collapsed": false,
     "input": [
      "np.cov(np.array([x, y]))"
     ],
     "language": "python",
     "metadata": {},
     "outputs": [
      {
       "metadata": {},
       "output_type": "pyout",
       "prompt_number": 3,
       "text": [
        "array([[ 0.50309341,  0.00297389],\n",
        "       [ 0.00297389,  0.49683412]])"
       ]
      }
     ],
     "prompt_number": 3
    },
    {
     "cell_type": "heading",
     "level": 3,
     "metadata": {},
     "source": [
      "Problem 2"
     ]
    },
    {
     "cell_type": "markdown",
     "metadata": {},
     "source": [
      "$X$, $Y$, and $Z$ are distributed uniformly in the ranges $[0, \\alpha], [0, \\beta], [0, \\gamma]$.\n",
      "This means they have variance $\\alpha^2 / 12, \\beta^2 / 12, \\gamma^2 / 12$ which give us the diagonal terms in the covariance matrix.\n",
      "The other terms are calculated as follows (shown for $X$ and $Y$, but similar for other pairs of random variables):\n",
      "\n",
      "$$\n",
      "cov(X, Y) = \\langle (X - \\overline{X}) (Y - \\overline{Y}) \\rangle = \n",
      "\\langle (\\alpha \\lambda - \\alpha / 2) (\\beta \\lambda - \\beta / 2) \\rangle =\n",
      "\\langle \\alpha (\\lambda - 1 / 2) \\beta (\\lambda - 1 / 2) \\rangle =\n",
      "\\alpha \\beta \\langle (\\lambda - 1 / 2) (\\lambda - 1 / 2) \\rangle =\n",
      "\\alpha \\beta * var(\\lambda) =\n",
      "\\frac{\\alpha \\beta}{12}\n",
      "$$\n",
      "\n",
      "Thus the covariance matrix is:\n",
      "\n",
      "$$\n",
      "C = \\: \\begin{bmatrix}\n",
      "\\alpha^2 & \\alpha \\beta & \\alpha \\gamma\\\\ \n",
      "\\beta \\alpha & \\beta^2 & \\beta \\gamma \\\\ \n",
      "\\gamma \\alpha & \\gamma \\beta & \\gamma^2\n",
      "\\end{bmatrix}\n",
      "$$\n",
      "\n",
      "The correlation matrix is calculated as:\n",
      "\n",
      "$$\n",
      "r_{ij} = \\frac{C_{i j}}{\\sqrt{C_{i i} C_{j j}}}\n",
      "$$\n",
      "\n",
      "which results in:\n",
      "\n",
      "$$\n",
      "r = \\: \\begin{bmatrix}\n",
      "1 & 1 & 1 \\\\\n",
      "1 & 1 & 1 \\\\\n",
      "1 & 1 & 1 \\\\\n",
      "\\end{bmatrix}\n",
      "$$"
     ]
    },
    {
     "cell_type": "markdown",
     "metadata": {},
     "source": [
      "For $\\alpha = 1, \\beta = 2, \\gamma = 3$, compute the expected covariance and correlation matrices as described. Then generate points with these parameters, compute the actual matrices, and verify they match expectations."
     ]
    },
    {
     "cell_type": "code",
     "collapsed": false,
     "input": [
      "def cov_and_corr(a, b, c, num_samples=1000000):\n",
      "    \"\"\"Generate points as the homework specifies. Return covariance and correlation.\"\"\"\n",
      "    abc = np.tile(np.array([[a, b, c]]), (num_samples, 1))\n",
      "    lambdas = np.tile(np.array([np.random.random(num_samples)]).T, (1, 3))\n",
      "    xyz = abc * lambdas\n",
      "    cov = np.cov(xyz, rowvar=False)\n",
      "    corr = np.corrcoef(xyz, rowvar=False)\n",
      "    return cov, corr"
     ],
     "language": "python",
     "metadata": {},
     "outputs": [],
     "prompt_number": 4
    },
    {
     "cell_type": "code",
     "collapsed": false,
     "input": [
      "a, b, c = 1, 2, 3"
     ],
     "language": "python",
     "metadata": {},
     "outputs": [],
     "prompt_number": 5
    },
    {
     "cell_type": "code",
     "collapsed": false,
     "input": [
      "abc = np.array([[a, b, c]])\n",
      "cov_expected = np.dot(abc.T, abc) / 12.0\n",
      "corr_expected = np.ones((3, 3), dtype=float)"
     ],
     "language": "python",
     "metadata": {},
     "outputs": [],
     "prompt_number": 6
    },
    {
     "cell_type": "code",
     "collapsed": false,
     "input": [
      "cov, corr = cov_and_corr(a, b, c)\n",
      "print 'cov:\\n', cov\n",
      "print 'corr:\\n', corr"
     ],
     "language": "python",
     "metadata": {},
     "outputs": [
      {
       "output_type": "stream",
       "stream": "stdout",
       "text": [
        "cov:\n",
        "[[ 0.08329172  0.16658343  0.24987515]\n",
        " [ 0.16658343  0.33316686  0.49975029]\n",
        " [ 0.24987515  0.49975029  0.74962544]]\n",
        "corr:\n",
        "[[ 1.  1.  1.]\n",
        " [ 1.  1.  1.]\n",
        " [ 1.  1.  1.]]\n"
       ]
      }
     ],
     "prompt_number": 7
    },
    {
     "cell_type": "code",
     "collapsed": false,
     "input": [
      "print np.allclose(cov, cov_expected, rtol=0.01)\n",
      "print np.allclose(corr, corr_expected, rtol=0.01)"
     ],
     "language": "python",
     "metadata": {},
     "outputs": [
      {
       "output_type": "stream",
       "stream": "stdout",
       "text": [
        "True\n",
        "True\n"
       ]
      }
     ],
     "prompt_number": 8
    }
   ],
   "metadata": {}
  }
 ]
}