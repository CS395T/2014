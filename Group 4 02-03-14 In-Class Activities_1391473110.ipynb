{
 "metadata": {
  "name": ""
 },
 "nbformat": 3,
 "nbformat_minor": 0,
 "worksheets": [
  {
   "cells": [
    {
     "cell_type": "heading",
     "level": 3,
     "metadata": {},
     "source": [
      "Goal: Plot a probability distribution function with mean 0, variance 4.2, and skewness 2.7"
     ]
    },
    {
     "cell_type": "markdown",
     "metadata": {},
     "source": [
      "We used the log-normal distribution configured to get the desired skewness and variance, then shifted it by its mean to center it at 0."
     ]
    },
    {
     "cell_type": "code",
     "collapsed": false,
     "input": [
      "import numpy as np\n",
      "import matplotlib.pyplot as plt\n",
      "import scipy.stats\n",
      "import sympy\n",
      "from sympy import exp, ln, pi, sqrt\n",
      "\n",
      "x, mu, sigma = sympy.symbols('x mu sigma')\n",
      "\n",
      "# Equations for the mean, variance, and skewness of the log-normal distribution.\n",
      "lognormal_mean_eqn = exp(mu + sigma**2 / 2)\n",
      "lognormal_variance_eqn = (exp(sigma**2) - 1) * exp(2*mu + sigma**2)\n",
      "lognormal_skew_eqn = (exp(sigma**2) + 2) * sqrt(exp(sigma**2) - 1)"
     ],
     "language": "python",
     "metadata": {},
     "outputs": [],
     "prompt_number": 1
    },
    {
     "cell_type": "code",
     "collapsed": false,
     "input": [
      "# We set the skewness equation for the log-normal distribution to 2.7, then solved\n",
      "# for sigma to get this value.\n",
      "lognormal_sigma = 0.672337\n",
      "\n",
      "# We then plugged sigma into the variance equation for the log-normal distribution\n",
      "# and set it equal to 4.2 and solved for mu.\n",
      "lognormal_mu = 0.77126\n",
      "\n",
      "lognormal_params = {mu: lognormal_mu, sigma: lognormal_sigma}"
     ],
     "language": "python",
     "metadata": {},
     "outputs": [],
     "prompt_number": 2
    },
    {
     "cell_type": "code",
     "collapsed": false,
     "input": [
      "# Plug the parameters we found into the variance/skewness equations to confirm\n",
      "# they produce the desired values.\n",
      "print 'variance', lognormal_variance_eqn.subs(lognormal_params)\n",
      "print 'skewness', lognormal_skew_eqn.subs(lognormal_params)"
     ],
     "language": "python",
     "metadata": {},
     "outputs": [
      {
       "output_type": "stream",
       "stream": "stdout",
       "text": [
        "variance 4.19999788269716\n",
        "skewness 2.70000063930158\n"
       ]
      }
     ],
     "prompt_number": 3
    },
    {
     "cell_type": "code",
     "collapsed": false,
     "input": [
      "# The variance and skewness look good, but the mean is not 0.\n",
      "mean = lognormal_mean_eqn.subs(lognormal_params)\n",
      "print mean"
     ],
     "language": "python",
     "metadata": {},
     "outputs": [
      {
       "output_type": "stream",
       "stream": "stdout",
       "text": [
        "2.71089413824342\n"
       ]
      }
     ],
     "prompt_number": 4
    },
    {
     "cell_type": "code",
     "collapsed": false,
     "input": [
      "# The log-normal PDF can be modified to shift it by an amount equal to the mean\n",
      "# we calculated.\n",
      "\n",
      "def get_shifted_lognormal_pdf(mu, sigma, shift=0.0):\n",
      "    \"\"\"Returns an expression for the shifted PDF of a log-normal distribution.\n",
      "    \n",
      "    This is the standard equation for the PDF of a log-normal distribution, but\n",
      "    shifted by 'shift' to the right.\n",
      "    \"\"\"\n",
      "    normalizer = 1 / ((x - shift) * sqrt(2*pi) * sigma)\n",
      "    exp_part = exp(-((ln(x - shift) - mu)**2)/(2 * sigma**2))\n",
      "    pdf = normalizer * exp_part\n",
      "    return pdf\n",
      "\n",
      "\n",
      "# Get the PDF with the desired mean/variance/skewness.\n",
      "mean_shift = -mean\n",
      "pdf = get_shifted_lognormal_pdf(lognormal_mu, lognormal_sigma, shift=mean_shift)\n",
      "print pdf"
     ],
     "language": "python",
     "metadata": {},
     "outputs": [
      {
       "output_type": "stream",
       "stream": "stdout",
       "text": [
        "0.743674675051351*2**(1/2)*exp(-1.10610404462546*(log(x + 2.71089413824342) - 0.77126)**2)/(pi**(1/2)*(x + 2.71089413824342))\n"
       ]
      }
     ],
     "prompt_number": 5
    },
    {
     "cell_type": "code",
     "collapsed": false,
     "input": [
      "# Plot the PDF\n",
      "xs = np.linspace(mean_shift + 1e-9, 10, num=1000)\n",
      "vectorized_pdf = np.vectorize(sympy.lambdify(x, pdf))\n",
      "ys = vectorized_pdf(xs)\n",
      "plt.plot(xs, ys)\n",
      "plt.axvline(x=0, color='red', linestyle='--')"
     ],
     "language": "python",
     "metadata": {},
     "outputs": [
      {
       "metadata": {},
       "output_type": "pyout",
       "prompt_number": 6,
       "text": [
        "<matplotlib.lines.Line2D at 0xa75a88c>"
       ]
      },
      {
       "metadata": {},
       "output_type": "display_data",
       "png": "[encoded data removed]",
       "text": [
        "<matplotlib.figure.Figure at 0xa5b0a8c>"
       ]
      }
     ],
     "prompt_number": 6
    }
   ],
   "metadata": {}
  }
 ]
}