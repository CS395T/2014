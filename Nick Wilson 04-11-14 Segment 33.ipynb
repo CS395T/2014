{
 "metadata": {
  "name": ""
 },
 "nbformat": 3,
 "nbformat_minor": 0,
 "worksheets": [
  {
   "cells": [
    {
     "cell_type": "heading",
     "level": 2,
     "metadata": {},
     "source": [
      "Problem 1"
     ]
    },
    {
     "cell_type": "markdown",
     "metadata": {},
     "source": [
      "**How many distinct m by n contingency tables are there that have exactly N total events?**"
     ]
    },
    {
     "cell_type": "markdown",
     "metadata": {},
     "source": [
      "Using the resource shamelessly stole from Ellen's page (slide 58 of http://www.math.binghamton.edu/dikran/447/combinatorics.pdf):\n",
      "\n",
      "$$\n",
      "\\binom{N + m*n - 1}{m*n - 1} = \\binom{N + m*n - 1}{N}\n",
      "$$"
     ]
    },
    {
     "cell_type": "heading",
     "level": 2,
     "metadata": {},
     "source": [
      "Problem 2"
     ]
    },
    {
     "cell_type": "markdown",
     "metadata": {},
     "source": [
      "**For every distinct 2 by 2 contingency table containing exactly 14 elements, compute its chi-square statistic, and also its Wald statistic. Display your results as a scatter plot of one statistic versus the other.**"
     ]
    },
    {
     "cell_type": "code",
     "collapsed": false,
     "input": [
      "import scipy.stats\n",
      "import itertools\n",
      "import matplotlib.pyplot as plt\n",
      "import numpy as np"
     ],
     "language": "python",
     "metadata": {},
     "outputs": [],
     "prompt_number": 1
    },
    {
     "cell_type": "code",
     "collapsed": false,
     "input": [
      "def chi_square(counts):\n",
      "    expected = scipy.stats.contingency.expected_freq(counts)\n",
      "    return np.sum((counts - expected)**2 / expected)\n",
      "\n",
      "chi_square(np.array([[1, 2], [3, 4]]))"
     ],
     "language": "python",
     "metadata": {},
     "outputs": [
      {
       "metadata": {},
       "output_type": "pyout",
       "prompt_number": 2,
       "text": [
        "0.079365079365079375"
       ]
      }
     ],
     "prompt_number": 2
    },
    {
     "cell_type": "code",
     "collapsed": false,
     "input": [
      "def wald_2x2(counts):\n",
      "    m, n = counts[0, 0], counts[0, 1]\n",
      "    M, N = counts.sum(axis=0)\n",
      "\n",
      "    p1_hat = m / float(M)\n",
      "    p2_hat = n / float(N)\n",
      "    p_hat = (m + n) / float(M + N)\n",
      "\n",
      "    numerator = p1_hat - p2_hat\n",
      "    denominator = np.sqrt(p_hat * (1 - p_hat) * ((1.0 / M) + (1.0 / N)))\n",
      "    return numerator / denominator\n",
      "\n",
      "wald_2x2(np.array([[1, 2], [3, 4]]))"
     ],
     "language": "python",
     "metadata": {},
     "outputs": [
      {
       "metadata": {},
       "output_type": "pyout",
       "prompt_number": 3,
       "text": [
        "-0.28171808490950545"
       ]
      }
     ],
     "prompt_number": 3
    },
    {
     "cell_type": "code",
     "collapsed": false,
     "input": [
      "def iter_contingency_tables_counts(m, n, N):\n",
      "    num_separators = m * n - 1\n",
      "    num_positions = N + num_separators\n",
      "\n",
      "    for separators in itertools.combinations(xrange(num_positions), num_separators):\n",
      "        counts = []\n",
      "        accumulator = 0\n",
      "        for pos in xrange(num_positions):\n",
      "            if pos in separators:\n",
      "                counts.append(accumulator)\n",
      "                accumulator = 0\n",
      "            else:\n",
      "                accumulator += 1\n",
      "        counts.append(accumulator)\n",
      "\n",
      "        assert len(counts) == m * n\n",
      "        assert sum(counts) == N\n",
      "\n",
      "        yield np.asarray(counts).reshape((m, n))\n",
      "\n",
      "\n",
      "# Sanity check for a small example: verify there are not duplicate count\n",
      "# matrices.\n",
      "counts = [tuple(c.flatten()) for c in iter_contingency_tables_counts(2, 2, 8)]\n",
      "assert len(set(counts)) == len(counts)"
     ],
     "language": "python",
     "metadata": {},
     "outputs": [],
     "prompt_number": 4
    },
    {
     "cell_type": "markdown",
     "metadata": {},
     "source": [
      "Finally, I create a scatter plot of chi-square and wald statistics."
     ]
    },
    {
     "cell_type": "code",
     "collapsed": false,
     "input": [
      "chi_squares = []\n",
      "walds = []\n",
      "for counts in iter_contingency_tables_counts(2, 2, 14):\n",
      "    if np.any(counts.sum(axis=0) == 0) or np.any(counts.sum(axis=1) == 0):\n",
      "        # Skip those with 0 marginals.\n",
      "        continue\n",
      "    chi_squares.append(chi_square(counts))\n",
      "    walds.append(wald_2x2(counts))"
     ],
     "language": "python",
     "metadata": {},
     "outputs": [],
     "prompt_number": 5
    },
    {
     "cell_type": "code",
     "collapsed": false,
     "input": [
      "plt.scatter(chi_squares, walds)\n",
      "plt.xlabel('chi-square')\n",
      "plt.ylabel('wald')"
     ],
     "language": "python",
     "metadata": {},
     "outputs": [
      {
       "metadata": {},
       "output_type": "pyout",
       "prompt_number": 6,
       "text": [
        "<matplotlib.text.Text at 0x9ee43ec>"
       ]
      },
      {
       "metadata": {},
       "output_type": "display_data",
       "png": "[encoded data removed]",
       "text": [
        "<matplotlib.figure.Figure at 0x9eceb8c>"
       ]
      }
     ],
     "prompt_number": 6
    }
   ],
   "metadata": {}
  }
 ]
}