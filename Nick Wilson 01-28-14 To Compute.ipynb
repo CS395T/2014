{
 "metadata": {
  "name": ""
 },
 "nbformat": 3,
 "nbformat_minor": 0,
 "worksheets": [
  {
   "cells": [
    {
     "cell_type": "code",
     "collapsed": false,
     "input": [
      "import numpy as np\n",
      "import scipy.misc\n",
      "\n",
      "def binomial_prob(k, n, p):\n",
      "    \"\"\"Probability that X = k for X ~ B(n, p).\"\"\"\n",
      "    n_choose_k = scipy.misc.comb(n, k) #, exact=0)\n",
      "    return n_choose_k * p**k * (1.0 - p)**(n - k)\n",
      "\n",
      "def binomial_prob_range(low, high, n, p):\n",
      "    prob = 0.0\n",
      "    for k in xrange(low, high + 1):\n",
      "        prob += binomial_prob(k, n, p)\n",
      "    return prob\n",
      "\n",
      "assert np.isclose(binomial_prob(5, 10, 5.0 / 12.0), 0.2138, atol=.001)"
     ],
     "language": "python",
     "metadata": {},
     "outputs": [],
     "prompt_number": 60
    },
    {
     "cell_type": "code",
     "collapsed": false,
     "input": [
      "binomial_prob_range(500010000, 500020000, 1000000000, 0.5)"
     ],
     "language": "python",
     "metadata": {},
     "outputs": [
      {
       "metadata": {},
       "output_type": "pyout",
       "prompt_number": 61,
       "text": [
        "nan"
       ]
      }
     ],
     "prompt_number": 61
    }
   ],
   "metadata": {}
  }
 ]
}