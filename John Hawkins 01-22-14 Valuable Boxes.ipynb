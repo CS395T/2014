{
 "metadata": {
  "name": ""
 },
 "nbformat": 3,
 "nbformat_minor": 0,
 "worksheets": [
  {
   "cells": [
    {
     "cell_type": "code",
     "collapsed": false,
     "input": [
      "# Here we calculate the posterior probability that the box in hand is good\n",
      "\n",
      "# Assume as a prior that there are 3 of 13 good boxes\n",
      "priorG = 3.0/13.0\n",
      "priorB = 1.0-priorG\n",
      "print 'Before data:'\n",
      "print 'P( HG ) = ',priorG,' '*7,\n",
      "print 'P( HB ) = ',priorB\n",
      "print 'P( V ) = ',(8.0/9.0 * priorG + 1.0/9.0 * priorB) \n",
      "print\n",
      "\n",
      "# Calculate posteriors that box in hand is good box\n",
      "piG = 9.0/10.0 * priorG\n",
      "piB = 2.0/10.0 * priorB\n",
      "posteriorG = piG/(piG + piB)\n",
      "posteriorB = piB/(piG + piB)\n",
      "print 'After data:'\n",
      "print 'P( HG | data ) = ',posteriorG,' '*7,\n",
      "print 'P( HB | data ) = ',posteriorB\n",
      "print 'P( V | data ) = ',(8.0/9.0 * posteriorG + 1.0/9.0 * posteriorB) "
     ],
     "language": "python",
     "metadata": {},
     "outputs": [
      {
       "output_type": "stream",
       "stream": "stdout",
       "text": [
        "Before data:\n",
        "P( HG ) =  0.230769230769         P( HB ) =  0.769230769231\n",
        "P( V ) =  0.290598290598\n",
        "\n",
        "After data:\n",
        "P( HG | data ) =  0.574468085106         P( HB | data ) =  0.425531914894\n",
        "P( V | data ) =  0.557919621749\n"
       ]
      }
     ],
     "prompt_number": 22
    },
    {
     "cell_type": "code",
     "collapsed": false,
     "input": [
      "# Here we calculate the posterior distribution of the number of good boxes\n",
      "\n",
      "def update_priors(priors):\n",
      "    priors = [(9.0/10.0*float(i)/13.0 + 2.0/10.0*(13.0-float(i))/13.0)*priors[i]\\\n",
      "              for i in range(len(priors))]\n",
      "    return [p/sum(priors) for p in priors]\n",
      "\n",
      "def p_next_valuable(priors):\n",
      "    return sum( (8.0/9.0*float(i)/13 +1.0/9.0*(13.0-float(i))/13.0)*priors[i]\\\n",
      "               for i in range(len(priors)))\n",
      "\n",
      "priors = [0.0, 0.0, 0.0, 1.0] + [0.0] * 9\n",
      "posteriors = update_priors(priors)\n",
      "print 'Assuming 3 good boxes:'\n",
      "print 'Priors:    ',priors\n",
      "print 'Posteriors:',posteriors\n",
      "print p_next_valuable(update_priors(priors))\n",
      "print \n",
      "\n",
      "print 'Assuming following prior distribution:'\n",
      "priors = [0.0, 0.0, .2, .3, .3, .1, .1] + [0.0] * 7\n",
      "posteriors = update_priors(priors)\n",
      "print 'Priors:    ',priors\n",
      "print 'Posteriors:',posteriors\n",
      "print p_next_valuable(posteriors)"
     ],
     "language": "python",
     "metadata": {},
     "outputs": [
      {
       "output_type": "stream",
       "stream": "stdout",
       "text": [
        "Assuming 3 good boxes:\n",
        "Priors:     [0.0, 0.0, 0.0, 1.0, 0.0, 0.0, 0.0, 0.0, 0.0, 0.0, 0.0, 0.0, 0.0]\n",
        "Posteriors: [0.0, 0.0, 0.0, 1.0, 0.0, 0.0, 0.0, 0.0, 0.0, 0.0, 0.0, 0.0, 0.0]\n",
        "0.290598290598\n",
        "\n",
        "Assuming following prior distribution:\n",
        "Priors:     [0.0, 0.0, 0.2, 0.3, 0.3, 0.1, 0.1, 0.0, 0.0, 0.0, 0.0, 0.0, 0.0, 0.0]\n",
        "Posteriors: [0.0, 0.0, 0.15625, 0.275390625, 0.31640624999999994, 0.119140625, 0.1328125, 0.0, 0.0, 0.0, 0.0, 0.0, 0.0, 0.0]\n",
        "0.33827457265\n"
       ]
      }
     ],
     "prompt_number": 25
    },
    {
     "cell_type": "code",
     "collapsed": false,
     "input": [],
     "language": "python",
     "metadata": {},
     "outputs": []
    }
   ],
   "metadata": {}
  }
 ]
}