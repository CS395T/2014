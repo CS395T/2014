{
 "metadata": {
  "name": ""
 },
 "nbformat": 3,
 "nbformat_minor": 0,
 "worksheets": [
  {
   "cells": [
    {
     "cell_type": "code",
     "collapsed": false,
     "input": [
      "import numpy as np\n",
      "import scipy.stats"
     ],
     "language": "python",
     "metadata": {},
     "outputs": [],
     "prompt_number": 1
    },
    {
     "cell_type": "code",
     "collapsed": false,
     "input": [
      "def p_tail(num_mutations, num_generations, num_loci=37, r=0.003):\n",
      "    \"\"\"Tail p-value of seeing `num_mutations` or more mutations in\n",
      "    `num_generations` generations with `num_loci` measured loci.\"\"\"\n",
      "    k = np.arange(num_mutations, num_loci + 1)\n",
      "    n = num_generations * num_loci\n",
      "    return scipy.stats.binom.pmf(k, n, r).sum()"
     ],
     "language": "python",
     "metadata": {},
     "outputs": [],
     "prompt_number": 2
    },
    {
     "cell_type": "code",
     "collapsed": false,
     "input": [
      "# Fields:\n",
      "# 1) Name of person. \n",
      "# 2) Number of mutations.\n",
      "# 3) Number of generations from William Towne.\n",
      "# 4) Number of loci measured.\n",
      "data = [('T2', 23, 10, 37), ('T11', 5, 9, 37), ('T5', 3, 10, 37), ('T13', 4, 10, 12)]\n",
      "\n",
      "for name, num_mutations, num_generations, num_loci in data:\n",
      "    pval = p_tail(num_mutations, num_generations, num_loci=num_loci)\n",
      "    print '{0}: {1}'.format(name, pval)"
     ],
     "language": "python",
     "metadata": {},
     "outputs": []
    }
   ],
   "metadata": {}
  }
 ]
}