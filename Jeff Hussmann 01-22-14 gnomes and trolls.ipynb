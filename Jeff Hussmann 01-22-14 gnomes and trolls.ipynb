{
 "metadata": {
  "name": ""
 },
 "nbformat": 3,
 "nbformat_minor": 0,
 "worksheets": [
  {
   "cells": [
    {
     "cell_type": "markdown",
     "metadata": {},
     "source": [
      "`numpy` has useful functions for generating random numbers and maninulating arrays.\n",
      "`matplotlib` has useful functions for plotting things."
     ]
    },
    {
     "cell_type": "code",
     "collapsed": false,
     "input": [
      "import numpy as np\n",
      "import matplotlib.pyplot as plt"
     ],
     "language": "python",
     "metadata": {},
     "outputs": [],
     "prompt_number": 1
    },
    {
     "cell_type": "markdown",
     "metadata": {},
     "source": [
      "We will explicitly model the process of picking a bridge and then picking a creature, rejecting any trial in which a gnome is picked.\n",
      "\n",
      "`numpy.random.choice` is a convenient way to pick from a set of objects with specified weights (i.e draw from a [categorical distribution](http://en.wikipedia.org/wiki/Categorical_distribution)). "
     ]
    },
    {
     "cell_type": "code",
     "collapsed": false,
     "input": [
      "bridges = ['TGGGG', 'TTGGG', 'GGGGG']\n",
      "ps = [0.2, 0.2, 0.6]\n",
      "trials = []\n",
      "\n",
      "while len(trials) < 100000:\n",
      "    bridge = np.random.choice(bridges, p=ps)\n",
      "    creature = np.random.choice(list(bridge))\n",
      "    if creature == 'T':\n",
      "        if bridge.count('T') == 1:\n",
      "            trials.append(1)\n",
      "        else:\n",
      "            trials.append(0)"
     ],
     "language": "python",
     "metadata": {},
     "outputs": [],
     "prompt_number": 2
    },
    {
     "cell_type": "markdown",
     "metadata": {},
     "source": [
      "`trials` is now a list of 0's and 1's that we need to convert into a list of \"fraction of safe passages so far\"."
     ]
    },
    {
     "cell_type": "code",
     "collapsed": false,
     "input": [
      "cumulative_fractions = np.cumsum(trials) / (np.arange(len(trials)) + 1.)"
     ],
     "language": "python",
     "metadata": {},
     "outputs": [],
     "prompt_number": 3
    },
    {
     "cell_type": "code",
     "collapsed": false,
     "input": [
      "plt.semilogx(cumulative_fractions)\n",
      "plt.ylim(0, 1)\n",
      "plt.axhline(1. / 3, color='red', linestyle='--')\n",
      "plt.xlabel('Number of trials')\n",
      "plt.ylabel('Cumulative fraction of safe passages');"
     ],
     "language": "python",
     "metadata": {},
     "outputs": [
      {
       "metadata": {},
       "output_type": "display_data",
       "png": "[encoded data removed]",
       "text": [
        "<matplotlib.figure.Figure at 0x9a9d90c>"
       ]
      }
     ],
     "prompt_number": 5
    },
    {
     "cell_type": "markdown",
     "metadata": {},
     "source": [
      "The simulation takes a while, in part because we need to generate about $1 / (0.2 * 0.2 + 0.4 * 0.2) \\approx 8.3$ trials per troll captured (can you see why?) and in part because `np.random.choice` is just slow. "
     ]
    },
    {
     "cell_type": "code",
     "collapsed": false,
     "input": [
      "%timeit np.random.choice(bridges, p=ps)"
     ],
     "language": "python",
     "metadata": {},
     "outputs": [
      {
       "output_type": "stream",
       "stream": "stdout",
       "text": [
        "10000 loops, best of 3: 143 \u00b5s per loop\n"
       ]
      }
     ],
     "prompt_number": 6
    }
   ],
   "metadata": {}
  }
 ]
}