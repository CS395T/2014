{
 "metadata": {
  "name": ""
 },
 "nbformat": 3,
 "nbformat_minor": 0,
 "worksheets": [
  {
   "cells": [
    {
     "cell_type": "markdown",
     "metadata": {},
     "source": [
      "This is a continuation of the 02-17-14 activity. The original code is below and is followed by the new code for the 02-21-14 activities."
     ]
    },
    {
     "cell_type": "heading",
     "level": 1,
     "metadata": {},
     "source": [
      "From 02-17-14"
     ]
    },
    {
     "cell_type": "code",
     "collapsed": false,
     "input": [
      "import collections\n",
      "import numpy as np\n",
      "import matplotlib.pyplot as plt\n",
      "import re\n",
      "import scipy.stats"
     ],
     "language": "python",
     "metadata": {},
     "outputs": [],
     "prompt_number": 1
    },
    {
     "cell_type": "code",
     "collapsed": false,
     "input": [
      "STOP_SEQS = ('TAA', 'TAG', 'TGA')"
     ],
     "language": "python",
     "metadata": {},
     "outputs": [],
     "prompt_number": 2
    },
    {
     "cell_type": "code",
     "collapsed": false,
     "input": [
      "# Estimate the probabilities of each character from the dataset.\n",
      "data = open('data/chrIV.txt').read()\n",
      "counts = collections.Counter(data)\n",
      "print counts\n",
      "total = sum(counts.itervalues())\n",
      "probs = dict([(l, count / float(total)) for l, count in counts.items()])\n",
      "print probs"
     ],
     "language": "python",
     "metadata": {},
     "outputs": [
      {
       "output_type": "stream",
       "stream": "stdout",
       "text": [
        "Counter({'A': 476761, 'T': 474471, 'G': 291364, 'C': 289337})\n",
        "{'A': 0.31121530771907124, 'C': 0.1888705315441341, 'T': 0.30972046427617916, 'G': 0.19019369646061546}\n"
       ]
      }
     ],
     "prompt_number": 3
    },
    {
     "cell_type": "code",
     "collapsed": false,
     "input": [
      "# Compute the probability that 3 random characters are a stop sequence.\n",
      "\n",
      "def prob_seq(seq, probs):\n",
      "    \"\"\"Probability of a sequence of characters like 'TAA' assuming independence.\"\"\"\n",
      "    return np.product([probs[c] for c in seq])\n",
      "\n",
      "prob_stop_seq = sum(prob_seq(stop_seq, probs) for stop_seq in STOP_SEQS)\n",
      "print 'Estimated probability of 3 random characters being a stop sequence:', prob_stop_seq"
     ],
     "language": "python",
     "metadata": {},
     "outputs": [
      {
       "output_type": "stream",
       "stream": "stdout",
       "text": [
        "Estimated probability of 3 random characters being a stop sequence: 0.0666634111351\n"
       ]
      }
     ],
     "prompt_number": 4
    },
    {
     "cell_type": "code",
     "collapsed": false,
     "input": [
      "def split(string, offset):\n",
      "    \"\"\"Split a string into triples starting at the given offset.\"\"\"\n",
      "    return [string[start:(start+3)] for start in range(offset, len(string), 3)]\n",
      "\n",
      "test_data = \"test data\"\n",
      "for i in xrange(3):\n",
      "    print split(test_data, i)"
     ],
     "language": "python",
     "metadata": {},
     "outputs": [
      {
       "output_type": "stream",
       "stream": "stdout",
       "text": [
        "['tes', 't d', 'ata']\n",
        "['est', ' da', 'ta']\n",
        "['st ', 'dat', 'a']\n"
       ]
      }
     ],
     "prompt_number": 5
    },
    {
     "cell_type": "code",
     "collapsed": false,
     "input": [
      "# Get all possible ORFs.\n",
      "\n",
      "def get_possible_orfs(data, offset):\n",
      "    \"\"\"Return a list of all possible ORFs (i.e., all strings between stop sequences) after\n",
      "    splitting the data into triples starting at the given offset.\"\"\"\n",
      "    possible_orfs = []\n",
      "    orf_triples = []\n",
      "    for triple in split(data, offset):\n",
      "        if triple in STOP_SEQS:\n",
      "            possible_orfs.append(''.join(orf_triples))\n",
      "            orf_triples = []\n",
      "        else:\n",
      "            orf_triples.append(triple)\n",
      "    possible_orfs.append(''.join(orf_triples))\n",
      "    return possible_orfs\n",
      "\n",
      "all_possible_orfs = []\n",
      "for offset in xrange(3):\n",
      "    possible_orfs = get_possible_orfs(data, offset)\n",
      "    all_possible_orfs.extend(possible_orfs)\n",
      "    \n",
      "print len(all_possible_orfs), 'possible ORFs. First 10:'\n",
      "for i in xrange(10):\n",
      "    print all_possible_orfs[i]"
     ],
     "language": "python",
     "metadata": {},
     "outputs": [
      {
       "output_type": "stream",
       "stream": "stdout",
       "text": [
        "85727 possible ORFs. First 10:\n",
        "ACACCACACCCACACCACACCCACACACACCACACCCACACACCACACCCACACCCACACACCCACACCCACACACCACACACCACACCACACCACACCCACACCCACACCACACCCACACCCACACACCACACCCACACCCACACACCACACACTACCCCTAACACTACCCTATTC\n",
        "CCC\n",
        "TTTTACCTGTCTCCAAACCTACCCTCACATTACCCTACCTCCCCACTCGTTACCCTGCCCCACTCAACCATCCACTCCCAACCACCATCCATCTCTCTACTTACCACTAACCACCGTCCACCA\n",
        "CCGTTACCCTCCAATTACCCATATCCAACTCCACTACCACTTACCCTACTATTACCCTACCATCCACCATGTCCTACTCACTGTACTGTTGTTCTACCCTCCATATTGAAACGT\n",
        "CAAATGATCGTAAATAATACATACATACTTACCCTACCACTCTATACCACCACTACCACCACCGCCACTTGCCACACTCACCTTCACTTCTAC\n",
        "TATGTCATACGCACACGGATGCTACAGTATATACCATCTCAAACTTACCCTACTTTCATATTCCACACCATGGCCCCATTCTCACTAAATCAGTACCAAATGCACTCACATCATTATTCACGGCACTTGCCTCAGCGGTCTATACCCTGTGCCATTTACGCA\n",
        "CTCCCACGATTATCCACATTTTATTACCTATATCTCATTCGGCGGCCCCAAATATTGTATAACTGCTCT\n",
        "TACATACGTTATACCACTTTTACACCGTATACTAACCACTCAATTTATATACACTTATGCCAATATTACAAAAAAATCACCACTAAAATCACC\n",
        "ACA\n",
        "AAATATTCTATTCTTCAACCA\n"
       ]
      }
     ],
     "prompt_number": 6
    },
    {
     "cell_type": "code",
     "collapsed": false,
     "input": [
      "# Get the CDF for a geometric distribution based on the probability of seeing a stop sequence.\n",
      "cdf = scipy.stats.geom(prob_stop_seq).cdf"
     ],
     "language": "python",
     "metadata": {},
     "outputs": [],
     "prompt_number": 7
    },
    {
     "cell_type": "code",
     "collapsed": false,
     "input": [
      "# Compute the p-values of each possible ORF.\n",
      "probs = 1 - np.array([cdf(len(possible_orf)) for possible_orf in all_possible_orfs])\n",
      "print probs[:10]"
     ],
     "language": "python",
     "metadata": {},
     "outputs": [
      {
       "output_type": "stream",
       "stream": "stdout",
       "text": [
        "[  4.97482250e-06   8.13045545e-01   2.06400075e-04   3.84030066e-04\n",
        "   1.63516321e-03   1.40024238e-05   8.56331878e-03   1.63516321e-03\n",
        "   8.13045545e-01   2.34857331e-01]\n"
       ]
      }
     ],
     "prompt_number": 8
    },
    {
     "cell_type": "code",
     "collapsed": false,
     "input": [
      "# Plot a histogram of the p-values.\n",
      "plt.hist(probs, bins=100)\n",
      "plt.title('Histogram of ORF p-values')"
     ],
     "language": "python",
     "metadata": {},
     "outputs": [
      {
       "metadata": {},
       "output_type": "pyout",
       "prompt_number": 9,
       "text": [
        "<matplotlib.text.Text at 0xc625a2c>"
       ]
      },
      {
       "metadata": {},
       "output_type": "display_data",
       "png": "[encoded data removed]",
       "text": [
        "<matplotlib.figure.Figure at 0xafac96c>"
       ]
      }
     ],
     "prompt_number": 9
    },
    {
     "cell_type": "heading",
     "level": 1,
     "metadata": {},
     "source": [
      "From 02-21-14"
     ]
    },
    {
     "cell_type": "heading",
     "level": 2,
     "metadata": {},
     "source": [
      "Bonferonni, alpha = 5%"
     ]
    },
    {
     "cell_type": "code",
     "collapsed": false,
     "input": [
      "alpha = 0.05\n",
      "n = len(probs)\n",
      "alpha_prime = alpha / n \n",
      "print alpha_prime"
     ],
     "language": "python",
     "metadata": {},
     "outputs": [
      {
       "output_type": "stream",
       "stream": "stdout",
       "text": [
        "5.83246818389e-07\n"
       ]
      }
     ],
     "prompt_number": 10
    },
    {
     "cell_type": "code",
     "collapsed": false,
     "input": [
      "all_possible_orfs = np.array(all_possible_orfs)\n",
      "filtered_bonferonni = all_possible_orfs[probs < alpha_prime]\n",
      "print len(filtered_bonferonni), 'discoveries with Bonferonni'"
     ],
     "language": "python",
     "metadata": {},
     "outputs": [
      {
       "output_type": "stream",
       "stream": "stdout",
       "text": [
        "1724 discoveries with Bonferonni\n"
       ]
      }
     ],
     "prompt_number": 11
    },
    {
     "cell_type": "heading",
     "level": 2,
     "metadata": {},
     "source": [
      "FDR, alpha = 5%"
     ]
    },
    {
     "cell_type": "code",
     "collapsed": false,
     "input": [
      "m = len(probs)\n",
      "alpha = 0.05\n",
      "\n",
      "sorted_indices = np.argsort(probs)\n",
      "k = np.arange(1, m + 1)\n",
      "thresholds = k * (alpha / m)\n",
      "\n",
      "filtered_fdc = all_possible_orfs[sorted_indices][probs[sorted_indices] <= thresholds]\n",
      "print len(filtered_fdc), 'discoveries with FDR'"
     ],
     "language": "python",
     "metadata": {},
     "outputs": [
      {
       "output_type": "stream",
       "stream": "stdout",
       "text": [
        "19772 discoveries with FDR\n"
       ]
      }
     ],
     "prompt_number": 12
    }
   ],
   "metadata": {}
  }
 ]
}