{
 "metadata": {
  "name": ""
 },
 "nbformat": 3,
 "nbformat_minor": 0,
 "worksheets": [
  {
   "cells": [
    {
     "cell_type": "code",
     "collapsed": false,
     "input": [
      "import numpy as np\n",
      "import scipy.stats"
     ],
     "language": "python",
     "metadata": {},
     "outputs": [],
     "prompt_number": 1
    },
    {
     "cell_type": "heading",
     "level": 2,
     "metadata": {},
     "source": [
      "Problem 1"
     ]
    },
    {
     "cell_type": "markdown",
     "metadata": {},
     "source": [
      "**20 our of 100 U.S. Senators are women, yet when the Senate formed an intramural baseball team of 9 people only 1 woman was chosen for the team. What is the probability of this occurring by chance? What is the p-value with which the null hypothesis \"there is no discrimination against women Senators\" can be rejected?**"
     ]
    },
    {
     "cell_type": "markdown",
     "metadata": {},
     "source": [
      "I first define the PMF for the multivariate hypergeometric distribution."
     ]
    },
    {
     "cell_type": "code",
     "collapsed": false,
     "input": [
      "def multi_hypergeom_pmf(k, K):\n",
      "    choose = scipy.misc.comb\n",
      "    N = sum(K)\n",
      "    n = sum(k)\n",
      "    return np.product([choose(K_i, k_i) for K_i, k_i in zip(K, k)]) / choose(N, n)"
     ],
     "language": "python",
     "metadata": {},
     "outputs": [],
     "prompt_number": 2
    },
    {
     "cell_type": "markdown",
     "metadata": {},
     "source": [
      "Assuming each senator has an equal chance of being chosen for the team, we have a hypergeometric distribution. The probability of exactly 8 men and 1 woman on the team is 0.3048. The probability of 8 or more men on the team (i.e., the team observed or a team with even more men) is 0.4267."
     ]
    },
    {
     "cell_type": "code",
     "collapsed": false,
     "input": [
      "senate_counts = (80, 20)\n",
      "prob_8_men = multi_hypergeom_pmf((8, 1), senate_counts)\n",
      "prob_9_men = multi_hypergeom_pmf((9, 0), senate_counts)\n",
      "print 'P(8 men) =', prob_8_men\n",
      "print 'P(8 or more men) =', prob_8_men + prob_9_men"
     ],
     "language": "python",
     "metadata": {},
     "outputs": [
      {
       "output_type": "stream",
       "stream": "stdout",
       "text": [
        "P(8 men) = 0.304773971521\n",
        "P(8 or more men) = 0.42668356013\n"
       ]
      }
     ],
     "prompt_number": 3
    },
    {
     "cell_type": "markdown",
     "metadata": {},
     "source": [
      "Now I define a reusable ContingencyTable class."
     ]
    },
    {
     "cell_type": "code",
     "collapsed": false,
     "input": [
      "class HtmlObject(object):\n",
      "    \"\"\"An object that can be displayed as HTML.\"\"\"\n",
      "    def __init__(self, html):\n",
      "        self.html = html\n",
      "\n",
      "    def _repr_html_(self):\n",
      "        return self.html\n",
      "\n",
      "\n",
      "class ContingencyTable(object):\n",
      "    \"\"\"A generic contingency table.\"\"\"\n",
      "\n",
      "    def __init__(self, row_names, col_names, counts):\n",
      "        assert counts.shape == (len(row_names), len(col_names))\n",
      "        self.row_names = row_names\n",
      "        self.col_names = col_names\n",
      "        self.counts = counts\n",
      "\n",
      "    def get_chisq_stat(self):\n",
      "        \"\"\"Compute the chi-squared test statistic.\"\"\"\n",
      "        expected = self.get_expected_counts()\n",
      "        return np.sum((self.counts - expected)**2 / expected)\n",
      "\n",
      "    def get_degrees_of_freedom(self):\n",
      "        \"\"\"Get the number of degrees of freedom for the chi-squared distribution.\"\"\"\n",
      "        return np.product(self.counts.shape) - np.sum(self.counts.shape) + 1\n",
      "\n",
      "    def get_expected_counts(self):\n",
      "        \"\"\"Get a matric of the expected counts under the null hypothesis.\"\"\"\n",
      "        expected = np.zeros(self.counts.shape)\n",
      "        for i in xrange(expected.shape[0]):\n",
      "            for j in xrange(expected.shape[1]):\n",
      "                n_i_dot = self.marginal(i, '.')\n",
      "                n_j_dot = self.marginal('.', j)\n",
      "                expected[i, j] = n_i_dot * n_j_dot\n",
      "        expected = expected / self.marginal('.', '.')\n",
      "        return expected\n",
      "\n",
      "    def get_p_value(self):\n",
      "        \"\"\"Compute a p-value.\"\"\"\n",
      "        chisq_stat = self.get_chisq_stat()\n",
      "        dof = self.get_degrees_of_freedom()\n",
      "        return scipy.stats.chi2.cdf(chisq_stat, dof)\n",
      "\n",
      "    def marginal(self, i, j):\n",
      "        \"\"\"Compute a marginal (sum of row/column). Each argument can be either\n",
      "        an index or a '.'\"\"\"\n",
      "        return self._marginal(i, j, self.counts)\n",
      "\n",
      "    def to_null_hypothesis_html(self):\n",
      "        \"\"\"Get a table in HTML format showing the expected counts.\"\"\"\n",
      "        expected = self.get_expected_counts()\n",
      "        return HtmlObject(self._to_html(expected, caption='Expected Counts'))\n",
      "\n",
      "    def _marginal(self, i, j, cell_values):\n",
      "        i_dot = i == '.'\n",
      "        j_dot = j == '.'\n",
      "        assert i_dot or j_dot\n",
      "        if i_dot and j_dot:\n",
      "            return cell_values.sum()\n",
      "        elif i_dot:\n",
      "            return cell_values[:, j].sum()\n",
      "        elif j_dot:\n",
      "            return cell_values[i].sum()\n",
      "\n",
      "    def _to_html(self, cell_values, caption='Counts'):\n",
      "        lines = ['<table>']\n",
      "        lines.append('<caption>{0}</caption>'.format(caption))\n",
      "        \n",
      "        def start_row():\n",
      "            lines.append('<tr>')\n",
      "\n",
      "        def end_row():\n",
      "            lines.append('</tr>')\n",
      "        \n",
      "        def cell(contents):\n",
      "            lines.append('<td>{0}</td>'.format(str(contents)))\n",
      "        \n",
      "        # Column names\n",
      "        start_row()\n",
      "        cell('')\n",
      "        for col_name in self.col_names:\n",
      "            cell(col_name)\n",
      "        cell('')\n",
      "        end_row()\n",
      "        \n",
      "        # Rows\n",
      "        for i, row_name in enumerate(self.row_names):\n",
      "            start_row()\n",
      "            cell(row_name)\n",
      "            for j in xrange(len(self.col_names)):\n",
      "                cell(cell_values[i, j])\n",
      "            cell(self._marginal(i, '.', cell_values))\n",
      "            end_row()\n",
      "\n",
      "        start_row()\n",
      "        cell('')\n",
      "        for j in xrange(len(self.col_names)):\n",
      "            cell(self._marginal('.', j, cell_values))\n",
      "        cell(self._marginal('.', '.', cell_values))\n",
      "        end_row()\n",
      "        \n",
      "        lines.append('</table>')\n",
      "        \n",
      "        return '\\n'.join(lines)\n",
      "\n",
      "    def _repr_html_(self):\n",
      "        return self._to_html(self.counts)"
     ],
     "language": "python",
     "metadata": {},
     "outputs": [],
     "prompt_number": 4
    },
    {
     "cell_type": "markdown",
     "metadata": {},
     "source": [
      "Testing ContingencyTable on the example from the lectures:"
     ]
    },
    {
     "cell_type": "code",
     "collapsed": false,
     "input": [
      "rows, cols = ('1 Exon', '>1 Exon'), ('AT Fraction < .4', 'AT Fraction > .6')\n",
      "counts = np.array([[2386, 689], [13369, 3982]])\n",
      "table = ContingencyTable(rows, cols, counts)\n",
      "table"
     ],
     "language": "python",
     "metadata": {},
     "outputs": [
      {
       "html": [
        "<table>\n",
        "<caption>Counts</caption>\n",
        "<tr>\n",
        "<td></td>\n",
        "<td>AT Fraction < .4</td>\n",
        "<td>AT Fraction > .6</td>\n",
        "<td></td>\n",
        "</tr>\n",
        "<tr>\n",
        "<td>1 Exon</td>\n",
        "<td>2386</td>\n",
        "<td>689</td>\n",
        "<td>3075</td>\n",
        "</tr>\n",
        "<tr>\n",
        "<td>>1 Exon</td>\n",
        "<td>13369</td>\n",
        "<td>3982</td>\n",
        "<td>17351</td>\n",
        "</tr>\n",
        "<tr>\n",
        "<td></td>\n",
        "<td>15755</td>\n",
        "<td>4671</td>\n",
        "<td>20426</td>\n",
        "</tr>\n",
        "</table>"
       ],
       "metadata": {},
       "output_type": "pyout",
       "prompt_number": 5,
       "text": [
        "<__main__.ContingencyTable at 0xa2a052c>"
       ]
      }
     ],
     "prompt_number": 5
    },
    {
     "cell_type": "code",
     "collapsed": false,
     "input": [
      "print 'Null Hypothesis'\n",
      "table.to_null_hypothesis_html()"
     ],
     "language": "python",
     "metadata": {},
     "outputs": [
      {
       "output_type": "stream",
       "stream": "stdout",
       "text": [
        "Null Hypothesis\n"
       ]
      },
      {
       "html": [
        "<table>\n",
        "<caption>Expected Counts</caption>\n",
        "<tr>\n",
        "<td></td>\n",
        "<td>AT Fraction < .4</td>\n",
        "<td>AT Fraction > .6</td>\n",
        "<td></td>\n",
        "</tr>\n",
        "<tr>\n",
        "<td>1 Exon</td>\n",
        "<td>2371.81166161</td>\n",
        "<td>703.188338392</td>\n",
        "<td>3075.0</td>\n",
        "</tr>\n",
        "<tr>\n",
        "<td>>1 Exon</td>\n",
        "<td>13383.1883384</td>\n",
        "<td>3967.81166161</td>\n",
        "<td>17351.0</td>\n",
        "</tr>\n",
        "<tr>\n",
        "<td></td>\n",
        "<td>15755.0</td>\n",
        "<td>4671.0</td>\n",
        "<td>20426.0</td>\n",
        "</tr>\n",
        "</table>"
       ],
       "metadata": {},
       "output_type": "pyout",
       "prompt_number": 6,
       "text": [
        "<__main__.HtmlObject at 0x9844bac>"
       ]
      }
     ],
     "prompt_number": 6
    },
    {
     "cell_type": "code",
     "collapsed": false,
     "input": [
      "p_val = table.get_p_value()\n",
      "print 'p-value', p_val\n",
      "assert np.allclose(p_val, 0.4914, atol=0.0001)"
     ],
     "language": "python",
     "metadata": {},
     "outputs": [
      {
       "output_type": "stream",
       "stream": "stdout",
       "text": [
        "p-value 0.491393657452\n"
       ]
      }
     ],
     "prompt_number": 7
    },
    {
     "cell_type": "markdown",
     "metadata": {},
     "source": [
      "Finally, I create a continency table from the senate baseball example."
     ]
    },
    {
     "cell_type": "code",
     "collapsed": false,
     "input": [
      "rows, cols = ('Off Team', 'On Team'), ('Man', 'Woman')\n",
      "counts = np.array([[72, 19], [8, 1]])\n",
      "table = ContingencyTable(rows, cols, counts)\n",
      "table"
     ],
     "language": "python",
     "metadata": {},
     "outputs": [
      {
       "html": [
        "<table>\n",
        "<caption>Counts</caption>\n",
        "<tr>\n",
        "<td></td>\n",
        "<td>Man</td>\n",
        "<td>Woman</td>\n",
        "<td></td>\n",
        "</tr>\n",
        "<tr>\n",
        "<td>Off Team</td>\n",
        "<td>72</td>\n",
        "<td>19</td>\n",
        "<td>91</td>\n",
        "</tr>\n",
        "<tr>\n",
        "<td>On Team</td>\n",
        "<td>8</td>\n",
        "<td>1</td>\n",
        "<td>9</td>\n",
        "</tr>\n",
        "<tr>\n",
        "<td></td>\n",
        "<td>80</td>\n",
        "<td>20</td>\n",
        "<td>100</td>\n",
        "</tr>\n",
        "</table>"
       ],
       "metadata": {},
       "output_type": "pyout",
       "prompt_number": 8,
       "text": [
        "<__main__.ContingencyTable at 0xa403c4c>"
       ]
      }
     ],
     "prompt_number": 8
    },
    {
     "cell_type": "code",
     "collapsed": false,
     "input": [
      "print 'Null Hypothesis'\n",
      "table.to_null_hypothesis_html()"
     ],
     "language": "python",
     "metadata": {},
     "outputs": [
      {
       "output_type": "stream",
       "stream": "stdout",
       "text": [
        "Null Hypothesis\n"
       ]
      },
      {
       "html": [
        "<table>\n",
        "<caption>Expected Counts</caption>\n",
        "<tr>\n",
        "<td></td>\n",
        "<td>Man</td>\n",
        "<td>Woman</td>\n",
        "<td></td>\n",
        "</tr>\n",
        "<tr>\n",
        "<td>Off Team</td>\n",
        "<td>72.8</td>\n",
        "<td>18.2</td>\n",
        "<td>91.0</td>\n",
        "</tr>\n",
        "<tr>\n",
        "<td>On Team</td>\n",
        "<td>7.2</td>\n",
        "<td>1.8</td>\n",
        "<td>9.0</td>\n",
        "</tr>\n",
        "<tr>\n",
        "<td></td>\n",
        "<td>80.0</td>\n",
        "<td>20.0</td>\n",
        "<td>100.0</td>\n",
        "</tr>\n",
        "</table>"
       ],
       "metadata": {},
       "output_type": "pyout",
       "prompt_number": 9,
       "text": [
        "<__main__.HtmlObject at 0xa3f828c>"
       ]
      }
     ],
     "prompt_number": 9
    },
    {
     "cell_type": "code",
     "collapsed": false,
     "input": [
      "print 'p-value', table.get_p_value()"
     ],
     "language": "python",
     "metadata": {},
     "outputs": [
      {
       "output_type": "stream",
       "stream": "stdout",
       "text": [
        "p-value 0.515358321212\n"
       ]
      }
     ],
     "prompt_number": 10
    },
    {
     "cell_type": "markdown",
     "metadata": {},
     "source": [
      "A reasonable p-value to reject the null hypothesis might be 0.05. I got 0.52, so we can not reject the null hypothesis. There is not enough evidence to concluce the team selection favors either men or women."
     ]
    },
    {
     "cell_type": "heading",
     "level": 2,
     "metadata": {},
     "source": [
      "Problem 2"
     ]
    },
    {
     "cell_type": "markdown",
     "metadata": {},
     "source": [
      "**A large jelly bean jar has 20% red jelly beans, 30% blue, and 50% yellow. If 6 jelly beans are chosen at random, what is the chance of getting exactly 2 of each color? What is the name of this distribution?**"
     ]
    },
    {
     "cell_type": "markdown",
     "metadata": {},
     "source": [
      "Assuming an infinitely large bag (or sampling with replacement), this is the multinomial distribution and the probability of getting exactly 2 of each color is 0.0810."
     ]
    },
    {
     "cell_type": "code",
     "collapsed": false,
     "input": [
      "def multinomial_pmf(x, p):\n",
      "    factorial = scipy.misc.factorial\n",
      "    n = sum(x)\n",
      "    n_equiv = factorial(n) / np.product([factorial(x_i) for x_i in x])\n",
      "    p_outcome = np.product([p_i**x_i for p_i, x_i in zip(p, x)])\n",
      "    return n_equiv * p_outcome"
     ],
     "language": "python",
     "metadata": {},
     "outputs": [],
     "prompt_number": 11
    },
    {
     "cell_type": "code",
     "collapsed": false,
     "input": [
      "multinomial_pmf([2, 2, 2], [0.2, 0.3, 0.5])"
     ],
     "language": "python",
     "metadata": {},
     "outputs": [
      {
       "metadata": {},
       "output_type": "pyout",
       "prompt_number": 12,
       "text": [
        "0.081000000000000016"
       ]
      }
     ],
     "prompt_number": 12
    },
    {
     "cell_type": "heading",
     "level": 2,
     "metadata": {},
     "source": [
      "Problem 3"
     ]
    },
    {
     "cell_type": "markdown",
     "metadata": {},
     "source": [
      "**A small jelly bean jar has 2 red jelly beans, 3 blue, and 5 yellow. If 6 jelly beans are chosen at random, what is the chance of getting exactly 2 of each color? What is the name of this distribution?**"
     ]
    },
    {
     "cell_type": "markdown",
     "metadata": {},
     "source": [
      "This is the multivariate hypergeometric distribution. The probability of getting 2 jelly beans of each color is 0.1429."
     ]
    },
    {
     "cell_type": "code",
     "collapsed": false,
     "input": [
      "multi_hypergeom_pmf([2, 2, 2], [2, 3, 5])"
     ],
     "language": "python",
     "metadata": {},
     "outputs": [
      {
       "metadata": {},
       "output_type": "pyout",
       "prompt_number": 13,
       "text": [
        "0.14285714285714271"
       ]
      }
     ],
     "prompt_number": 13
    }
   ],
   "metadata": {}
  }
 ]
}